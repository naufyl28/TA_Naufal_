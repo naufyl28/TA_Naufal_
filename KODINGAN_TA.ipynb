{
 "cells": [
  {
   "cell_type": "code",
   "execution_count": 1,
   "id": "2409d929-1fbc-45f4-ba5b-d50864fdc894",
   "metadata": {},
   "outputs": [
    {
     "name": "stdout",
     "output_type": "stream",
     "text": [
      "Requirement already satisfied: transformers[torch] in c:\\anaconda\\envs\\gpu_ta\\lib\\site-packages (4.51.3)\n",
      "Requirement already satisfied: filelock in c:\\anaconda\\envs\\gpu_ta\\lib\\site-packages (from transformers[torch]) (3.13.1)\n",
      "Requirement already satisfied: huggingface-hub<1.0,>=0.30.0 in c:\\anaconda\\envs\\gpu_ta\\lib\\site-packages (from transformers[torch]) (0.31.2)\n",
      "Requirement already satisfied: numpy>=1.17 in c:\\anaconda\\envs\\gpu_ta\\lib\\site-packages (from transformers[torch]) (2.1.2)\n",
      "Requirement already satisfied: packaging>=20.0 in c:\\anaconda\\envs\\gpu_ta\\lib\\site-packages (from transformers[torch]) (24.2)\n",
      "Requirement already satisfied: pyyaml>=5.1 in c:\\anaconda\\envs\\gpu_ta\\lib\\site-packages (from transformers[torch]) (6.0.2)\n",
      "Requirement already satisfied: regex!=2019.12.17 in c:\\anaconda\\envs\\gpu_ta\\lib\\site-packages (from transformers[torch]) (2024.11.6)\n",
      "Requirement already satisfied: requests in c:\\anaconda\\envs\\gpu_ta\\lib\\site-packages (from transformers[torch]) (2.32.3)\n",
      "Requirement already satisfied: tokenizers<0.22,>=0.21 in c:\\anaconda\\envs\\gpu_ta\\lib\\site-packages (from transformers[torch]) (0.21.1)\n",
      "Requirement already satisfied: safetensors>=0.4.3 in c:\\anaconda\\envs\\gpu_ta\\lib\\site-packages (from transformers[torch]) (0.5.3)\n",
      "Requirement already satisfied: tqdm>=4.27 in c:\\anaconda\\envs\\gpu_ta\\lib\\site-packages (from transformers[torch]) (4.67.1)\n",
      "Requirement already satisfied: torch>=2.0 in c:\\anaconda\\envs\\gpu_ta\\lib\\site-packages (from transformers[torch]) (2.7.0+cu118)\n",
      "Requirement already satisfied: accelerate>=0.26.0 in c:\\anaconda\\envs\\gpu_ta\\lib\\site-packages (from transformers[torch]) (1.6.0)\n",
      "Requirement already satisfied: fsspec>=2023.5.0 in c:\\anaconda\\envs\\gpu_ta\\lib\\site-packages (from huggingface-hub<1.0,>=0.30.0->transformers[torch]) (2024.6.1)\n",
      "Requirement already satisfied: typing-extensions>=3.7.4.3 in c:\\anaconda\\envs\\gpu_ta\\lib\\site-packages (from huggingface-hub<1.0,>=0.30.0->transformers[torch]) (4.12.2)\n",
      "Requirement already satisfied: psutil in c:\\anaconda\\envs\\gpu_ta\\lib\\site-packages (from accelerate>=0.26.0->transformers[torch]) (5.9.0)\n",
      "Requirement already satisfied: sympy>=1.13.3 in c:\\anaconda\\envs\\gpu_ta\\lib\\site-packages (from torch>=2.0->transformers[torch]) (1.13.3)\n",
      "Requirement already satisfied: networkx in c:\\anaconda\\envs\\gpu_ta\\lib\\site-packages (from torch>=2.0->transformers[torch]) (3.3)\n",
      "Requirement already satisfied: jinja2 in c:\\anaconda\\envs\\gpu_ta\\lib\\site-packages (from torch>=2.0->transformers[torch]) (3.1.4)\n",
      "Requirement already satisfied: mpmath<1.4,>=1.1.0 in c:\\anaconda\\envs\\gpu_ta\\lib\\site-packages (from sympy>=1.13.3->torch>=2.0->transformers[torch]) (1.3.0)\n",
      "Requirement already satisfied: colorama in c:\\anaconda\\envs\\gpu_ta\\lib\\site-packages (from tqdm>=4.27->transformers[torch]) (0.4.6)\n",
      "Requirement already satisfied: MarkupSafe>=2.0 in c:\\anaconda\\envs\\gpu_ta\\lib\\site-packages (from jinja2->torch>=2.0->transformers[torch]) (2.1.5)\n",
      "Requirement already satisfied: charset-normalizer<4,>=2 in c:\\anaconda\\envs\\gpu_ta\\lib\\site-packages (from requests->transformers[torch]) (3.3.2)\n",
      "Requirement already satisfied: idna<4,>=2.5 in c:\\anaconda\\envs\\gpu_ta\\lib\\site-packages (from requests->transformers[torch]) (3.7)\n",
      "Requirement already satisfied: urllib3<3,>=1.21.1 in c:\\anaconda\\envs\\gpu_ta\\lib\\site-packages (from requests->transformers[torch]) (2.3.0)\n",
      "Requirement already satisfied: certifi>=2017.4.17 in c:\\anaconda\\envs\\gpu_ta\\lib\\site-packages (from requests->transformers[torch]) (2025.4.26)\n",
      "Requirement already satisfied: accelerate in c:\\anaconda\\envs\\gpu_ta\\lib\\site-packages (1.6.0)\n",
      "Requirement already satisfied: numpy<3.0.0,>=1.17 in c:\\anaconda\\envs\\gpu_ta\\lib\\site-packages (from accelerate) (2.1.2)\n",
      "Requirement already satisfied: packaging>=20.0 in c:\\anaconda\\envs\\gpu_ta\\lib\\site-packages (from accelerate) (24.2)\n",
      "Requirement already satisfied: psutil in c:\\anaconda\\envs\\gpu_ta\\lib\\site-packages (from accelerate) (5.9.0)\n",
      "Requirement already satisfied: pyyaml in c:\\anaconda\\envs\\gpu_ta\\lib\\site-packages (from accelerate) (6.0.2)\n",
      "Requirement already satisfied: torch>=2.0.0 in c:\\anaconda\\envs\\gpu_ta\\lib\\site-packages (from accelerate) (2.7.0+cu118)\n",
      "Requirement already satisfied: huggingface-hub>=0.21.0 in c:\\anaconda\\envs\\gpu_ta\\lib\\site-packages (from accelerate) (0.31.2)\n",
      "Requirement already satisfied: safetensors>=0.4.3 in c:\\anaconda\\envs\\gpu_ta\\lib\\site-packages (from accelerate) (0.5.3)\n",
      "Requirement already satisfied: filelock in c:\\anaconda\\envs\\gpu_ta\\lib\\site-packages (from huggingface-hub>=0.21.0->accelerate) (3.13.1)\n",
      "Requirement already satisfied: fsspec>=2023.5.0 in c:\\anaconda\\envs\\gpu_ta\\lib\\site-packages (from huggingface-hub>=0.21.0->accelerate) (2024.6.1)\n",
      "Requirement already satisfied: requests in c:\\anaconda\\envs\\gpu_ta\\lib\\site-packages (from huggingface-hub>=0.21.0->accelerate) (2.32.3)\n",
      "Requirement already satisfied: tqdm>=4.42.1 in c:\\anaconda\\envs\\gpu_ta\\lib\\site-packages (from huggingface-hub>=0.21.0->accelerate) (4.67.1)\n",
      "Requirement already satisfied: typing-extensions>=3.7.4.3 in c:\\anaconda\\envs\\gpu_ta\\lib\\site-packages (from huggingface-hub>=0.21.0->accelerate) (4.12.2)\n",
      "Requirement already satisfied: sympy>=1.13.3 in c:\\anaconda\\envs\\gpu_ta\\lib\\site-packages (from torch>=2.0.0->accelerate) (1.13.3)\n",
      "Requirement already satisfied: networkx in c:\\anaconda\\envs\\gpu_ta\\lib\\site-packages (from torch>=2.0.0->accelerate) (3.3)\n",
      "Requirement already satisfied: jinja2 in c:\\anaconda\\envs\\gpu_ta\\lib\\site-packages (from torch>=2.0.0->accelerate) (3.1.4)\n",
      "Requirement already satisfied: mpmath<1.4,>=1.1.0 in c:\\anaconda\\envs\\gpu_ta\\lib\\site-packages (from sympy>=1.13.3->torch>=2.0.0->accelerate) (1.3.0)\n",
      "Requirement already satisfied: colorama in c:\\anaconda\\envs\\gpu_ta\\lib\\site-packages (from tqdm>=4.42.1->huggingface-hub>=0.21.0->accelerate) (0.4.6)\n",
      "Requirement already satisfied: MarkupSafe>=2.0 in c:\\anaconda\\envs\\gpu_ta\\lib\\site-packages (from jinja2->torch>=2.0.0->accelerate) (2.1.5)\n",
      "Requirement already satisfied: charset-normalizer<4,>=2 in c:\\anaconda\\envs\\gpu_ta\\lib\\site-packages (from requests->huggingface-hub>=0.21.0->accelerate) (3.3.2)\n",
      "Requirement already satisfied: idna<4,>=2.5 in c:\\anaconda\\envs\\gpu_ta\\lib\\site-packages (from requests->huggingface-hub>=0.21.0->accelerate) (3.7)\n",
      "Requirement already satisfied: urllib3<3,>=1.21.1 in c:\\anaconda\\envs\\gpu_ta\\lib\\site-packages (from requests->huggingface-hub>=0.21.0->accelerate) (2.3.0)\n",
      "Requirement already satisfied: certifi>=2017.4.17 in c:\\anaconda\\envs\\gpu_ta\\lib\\site-packages (from requests->huggingface-hub>=0.21.0->accelerate) (2025.4.26)\n",
      "Requirement already satisfied: emoji in c:\\anaconda\\envs\\gpu_ta\\lib\\site-packages (2.14.1)\n",
      "Requirement already satisfied: ipywidgets in c:\\anaconda\\envs\\gpu_ta\\lib\\site-packages (8.1.7)\n",
      "Requirement already satisfied: comm>=0.1.3 in c:\\anaconda\\envs\\gpu_ta\\lib\\site-packages (from ipywidgets) (0.2.1)\n",
      "Requirement already satisfied: ipython>=6.1.0 in c:\\anaconda\\envs\\gpu_ta\\lib\\site-packages (from ipywidgets) (9.1.0)\n",
      "Requirement already satisfied: traitlets>=4.3.1 in c:\\anaconda\\envs\\gpu_ta\\lib\\site-packages (from ipywidgets) (5.14.3)\n",
      "Requirement already satisfied: widgetsnbextension~=4.0.14 in c:\\anaconda\\envs\\gpu_ta\\lib\\site-packages (from ipywidgets) (4.0.14)\n",
      "Requirement already satisfied: jupyterlab_widgets~=3.0.15 in c:\\anaconda\\envs\\gpu_ta\\lib\\site-packages (from ipywidgets) (3.0.15)\n",
      "Requirement already satisfied: colorama in c:\\anaconda\\envs\\gpu_ta\\lib\\site-packages (from ipython>=6.1.0->ipywidgets) (0.4.6)\n",
      "Requirement already satisfied: decorator in c:\\anaconda\\envs\\gpu_ta\\lib\\site-packages (from ipython>=6.1.0->ipywidgets) (5.1.1)\n",
      "Requirement already satisfied: ipython-pygments-lexers in c:\\anaconda\\envs\\gpu_ta\\lib\\site-packages (from ipython>=6.1.0->ipywidgets) (1.1.1)\n",
      "Requirement already satisfied: jedi>=0.16 in c:\\anaconda\\envs\\gpu_ta\\lib\\site-packages (from ipython>=6.1.0->ipywidgets) (0.19.2)\n",
      "Requirement already satisfied: matplotlib-inline in c:\\anaconda\\envs\\gpu_ta\\lib\\site-packages (from ipython>=6.1.0->ipywidgets) (0.1.6)\n",
      "Requirement already satisfied: prompt_toolkit<3.1.0,>=3.0.41 in c:\\anaconda\\envs\\gpu_ta\\lib\\site-packages (from ipython>=6.1.0->ipywidgets) (3.0.43)\n",
      "Requirement already satisfied: pygments>=2.4.0 in c:\\anaconda\\envs\\gpu_ta\\lib\\site-packages (from ipython>=6.1.0->ipywidgets) (2.19.1)\n",
      "Requirement already satisfied: stack_data in c:\\anaconda\\envs\\gpu_ta\\lib\\site-packages (from ipython>=6.1.0->ipywidgets) (0.2.0)\n",
      "Requirement already satisfied: typing_extensions>=4.6 in c:\\anaconda\\envs\\gpu_ta\\lib\\site-packages (from ipython>=6.1.0->ipywidgets) (4.12.2)\n",
      "Requirement already satisfied: wcwidth in c:\\anaconda\\envs\\gpu_ta\\lib\\site-packages (from prompt_toolkit<3.1.0,>=3.0.41->ipython>=6.1.0->ipywidgets) (0.2.5)\n",
      "Requirement already satisfied: parso<0.9.0,>=0.8.4 in c:\\anaconda\\envs\\gpu_ta\\lib\\site-packages (from jedi>=0.16->ipython>=6.1.0->ipywidgets) (0.8.4)\n",
      "Requirement already satisfied: executing in c:\\anaconda\\envs\\gpu_ta\\lib\\site-packages (from stack_data->ipython>=6.1.0->ipywidgets) (0.8.3)\n",
      "Requirement already satisfied: asttokens in c:\\anaconda\\envs\\gpu_ta\\lib\\site-packages (from stack_data->ipython>=6.1.0->ipywidgets) (3.0.0)\n",
      "Requirement already satisfied: pure-eval in c:\\anaconda\\envs\\gpu_ta\\lib\\site-packages (from stack_data->ipython>=6.1.0->ipywidgets) (0.2.2)\n"
     ]
    }
   ],
   "source": [
    "!pip install transformers[torch]\n",
    "!pip install accelerate\n",
    "!pip install emoji\n",
    "!pip install ipywidgets"
   ]
  },
  {
   "cell_type": "code",
   "execution_count": 2,
   "id": "9d88206a-1bd5-4be0-bda1-6278d9c6ba78",
   "metadata": {},
   "outputs": [],
   "source": [
    "import torch\n",
    "import numpy as np\n",
    "import pandas as pd\n",
    "import matplotlib.pyplot as plt\n",
    "import pandas as pd\n",
    "import numpy as np\n",
    "import csv\n",
    "import torch\n",
    "from sklearn.model_selection import train_test_split\n",
    "from sklearn.metrics import accuracy_score, precision_score, recall_score, f1_score\n",
    "from transformers import BertTokenizer, BertForSequenceClassification\n",
    "from torch.utils.data import DataLoader, Dataset\n",
    "from transformers import Trainer, TrainingArguments\n",
    "from transformers import EarlyStoppingCallback"
   ]
  },
  {
   "cell_type": "code",
   "execution_count": 3,
   "id": "8313ad3b-f8b9-40b5-a39a-7e71e83c4bfd",
   "metadata": {},
   "outputs": [
    {
     "name": "stdout",
     "output_type": "stream",
     "text": [
      "2.7.0+cu118\n"
     ]
    }
   ],
   "source": [
    "print(torch.__version__)"
   ]
  },
  {
   "cell_type": "code",
   "execution_count": 4,
   "id": "e85781ad-01c8-4c5f-baec-026de12100ff",
   "metadata": {
    "scrolled": true
   },
   "outputs": [
    {
     "name": "stdout",
     "output_type": "stream",
     "text": [
      "Tue Jun 17 22:05:06 2025       \n",
      "+-----------------------------------------------------------------------------------------+\n",
      "| NVIDIA-SMI 576.02                 Driver Version: 576.02         CUDA Version: 12.9     |\n",
      "|-----------------------------------------+------------------------+----------------------+\n",
      "| GPU  Name                  Driver-Model | Bus-Id          Disp.A | Volatile Uncorr. ECC |\n",
      "| Fan  Temp   Perf          Pwr:Usage/Cap |           Memory-Usage | GPU-Util  Compute M. |\n",
      "|                                         |                        |               MIG M. |\n",
      "|=========================================+========================+======================|\n",
      "|   0  NVIDIA GeForce GTX 1650 Ti   WDDM  |   00000000:01:00.0 Off |                  N/A |\n",
      "| N/A   47C    P8              7W /   50W |    2415MiB /   4096MiB |      0%      Default |\n",
      "|                                         |                        |                  N/A |\n",
      "+-----------------------------------------+------------------------+----------------------+\n",
      "                                                                                         \n",
      "+-----------------------------------------------------------------------------------------+\n",
      "| Processes:                                                                              |\n",
      "|  GPU   GI   CI              PID   Type   Process name                        GPU Memory |\n",
      "|        ID   ID                                                               Usage      |\n",
      "|=========================================================================================|\n",
      "|    0   N/A  N/A           12916      C   ...aconda\\envs\\gpu_TA\\python.exe      N/A      |\n",
      "+-----------------------------------------------------------------------------------------+\n"
     ]
    }
   ],
   "source": [
    "!nvidia-smi"
   ]
  },
  {
   "cell_type": "code",
   "execution_count": 5,
   "id": "12375c0c-07e2-4341-80f6-4f88dcf83097",
   "metadata": {},
   "outputs": [
    {
     "data": {
      "text/html": [
       "<div>\n",
       "<style scoped>\n",
       "    .dataframe tbody tr th:only-of-type {\n",
       "        vertical-align: middle;\n",
       "    }\n",
       "\n",
       "    .dataframe tbody tr th {\n",
       "        vertical-align: top;\n",
       "    }\n",
       "\n",
       "    .dataframe thead th {\n",
       "        text-align: right;\n",
       "    }\n",
       "</style>\n",
       "<table border=\"1\" class=\"dataframe\">\n",
       "  <thead>\n",
       "    <tr style=\"text-align: right;\">\n",
       "      <th></th>\n",
       "      <th>textDisplay</th>\n",
       "      <th>label_manual</th>\n",
       "    </tr>\n",
       "  </thead>\n",
       "  <tbody>\n",
       "    <tr>\n",
       "      <th>0</th>\n",
       "      <td>Hutan Bojonegoro udah habis di tebang i,,dan d...</td>\n",
       "      <td>0</td>\n",
       "    </tr>\n",
       "    <tr>\n",
       "      <th>1</th>\n",
       "      <td>Jangan khawatir deforestasi!!, kata pak presiden</td>\n",
       "      <td>1</td>\n",
       "    </tr>\n",
       "    <tr>\n",
       "      <th>2</th>\n",
       "      <td>Assalamu&amp;#39;alaikum, izin mengambil salah sat...</td>\n",
       "      <td>1</td>\n",
       "    </tr>\n",
       "    <tr>\n",
       "      <th>3</th>\n",
       "      <td>Saya tetap yakin kita terlahir dari nenek moya...</td>\n",
       "      <td>2</td>\n",
       "    </tr>\n",
       "    <tr>\n",
       "      <th>4</th>\n",
       "      <td>sekarang rasakan panasnya nggk seperti biasany...</td>\n",
       "      <td>1</td>\n",
       "    </tr>\n",
       "    <tr>\n",
       "      <th>5</th>\n",
       "      <td>Sbnr nya hutan milik siapa? Kok berani membaba...</td>\n",
       "      <td>1</td>\n",
       "    </tr>\n",
       "    <tr>\n",
       "      <th>6</th>\n",
       "      <td>demi menyenangkan sahabat jokowi, si haji Is*m...</td>\n",
       "      <td>0</td>\n",
       "    </tr>\n",
       "    <tr>\n",
       "      <th>7</th>\n",
       "      <td>Mampus.....Suatu saat kalimantan bakalan gundul</td>\n",
       "      <td>0</td>\n",
       "    </tr>\n",
       "    <tr>\n",
       "      <th>8</th>\n",
       "      <td>Kalau orang hidup di kabupaten KKU berdampinga...</td>\n",
       "      <td>0</td>\n",
       "    </tr>\n",
       "    <tr>\n",
       "      <th>9</th>\n",
       "      <td>Kalimantan rusak itu akibat ulah pejabat dan o...</td>\n",
       "      <td>0</td>\n",
       "    </tr>\n",
       "  </tbody>\n",
       "</table>\n",
       "</div>"
      ],
      "text/plain": [
       "                                         textDisplay  label_manual\n",
       "0  Hutan Bojonegoro udah habis di tebang i,,dan d...             0\n",
       "1   Jangan khawatir deforestasi!!, kata pak presiden             1\n",
       "2  Assalamu&#39;alaikum, izin mengambil salah sat...             1\n",
       "3  Saya tetap yakin kita terlahir dari nenek moya...             2\n",
       "4  sekarang rasakan panasnya nggk seperti biasany...             1\n",
       "5  Sbnr nya hutan milik siapa? Kok berani membaba...             1\n",
       "6  demi menyenangkan sahabat jokowi, si haji Is*m...             0\n",
       "7    Mampus.....Suatu saat kalimantan bakalan gundul             0\n",
       "8  Kalau orang hidup di kabupaten KKU berdampinga...             0\n",
       "9  Kalimantan rusak itu akibat ulah pejabat dan o...             0"
      ]
     },
     "execution_count": 5,
     "metadata": {},
     "output_type": "execute_result"
    }
   ],
   "source": [
    "import pandas as pd\n",
    "\n",
    "file_path = r'D:\\dataset\\Data TA_LABEL.csv'  \n",
    "\n",
    "df = pd.read_csv(file_path)\n",
    "df['label_manual'] = df['label_manual'].fillna(0).astype(int)\n",
    "\n",
    "df.head(10)"
   ]
  },
  {
   "cell_type": "code",
   "execution_count": 6,
   "id": "c3ef7afe-99a1-4ada-bb0d-f49447113e94",
   "metadata": {},
   "outputs": [
    {
     "name": "stdout",
     "output_type": "stream",
     "text": [
      "(869, 2)\n"
     ]
    }
   ],
   "source": [
    "print(df.shape)"
   ]
  },
  {
   "cell_type": "code",
   "execution_count": 7,
   "id": "e15be88d-731d-48f1-8f49-c98a6afc1e75",
   "metadata": {},
   "outputs": [
    {
     "name": "stdout",
     "output_type": "stream",
     "text": [
      "                                        cleaned_text  label_manual\n",
      "0  Hutan Bojonegoro udah habis di tebang idan di ...             0\n",
      "1      Jangan khawatir deforestasi kata pak presiden             1\n",
      "2  Assalamualaikum izin mengambil salah satu klip...             1\n",
      "3  Saya tetap yakin kita terlahir dari nenek moya...             2\n",
      "4  sekarang rasakan panasnya nggk seperti biasany...             1\n",
      "5  Sbnr nya hutan milik siapa Kok berani membabal...             1\n",
      "6  demi menyenangkan sahabat jokowi si haji Ism j...             0\n",
      "7         MampusSuatu saat kalimantan bakalan gundul             0\n",
      "8  Kalau orang hidup di kabupaten KKU berdampinga...             0\n",
      "9  Kalimantan rusak itu akibat ulah pejabat dan o...             0\n"
     ]
    }
   ],
   "source": [
    "import re\n",
    "from bs4 import BeautifulSoup\n",
    "import emoji\n",
    "\n",
    "def clean_text(text):\n",
    "    if isinstance(text, str):\n",
    "        if re.search(r'<.*?>', text):\n",
    "            text = BeautifulSoup(text, \"html.parser\").get_text()\n",
    "\n",
    "        text = emoji.replace_emoji(text, replace='')\n",
    "        text = re.sub(r'[^a-zA-Z\\s]', '', text)\n",
    "        text = re.sub(r'\\s+', ' ', text)\n",
    "        text = text.strip()\n",
    "    else:\n",
    "        text = \"\"\n",
    "\n",
    "    return text\n",
    "\n",
    "df['cleaned_text'] = df['textDisplay'].apply(clean_text)\n",
    "\n",
    "df = df[df['cleaned_text'] != \"\"]\n",
    "\n",
    "print(df[['cleaned_text', 'label_manual']].head(10))"
   ]
  },
  {
   "cell_type": "code",
   "execution_count": 8,
   "id": "dd737ca3-9c3e-437b-8472-32fcbb73868e",
   "metadata": {},
   "outputs": [],
   "source": [
    "output_path = r'D:\\dataset\\dataset_preprocessing.csv' \n",
    "df.to_csv(output_path, index=False)"
   ]
  },
  {
   "cell_type": "code",
   "execution_count": 9,
   "id": "baa55f93-17be-446e-88f1-d957ecb9f1b6",
   "metadata": {},
   "outputs": [
    {
     "name": "stdout",
     "output_type": "stream",
     "text": [
      "                                        cleaned_text  \\\n",
      "0  Hutan Bojonegoro udah habis di tebang idan di ...   \n",
      "1      Jangan khawatir deforestasi kata pak presiden   \n",
      "2  Assalamualaikum izin mengambil salah satu klip...   \n",
      "3  Saya tetap yakin kita terlahir dari nenek moya...   \n",
      "4  sekarang rasakan panasnya nggk seperti biasany...   \n",
      "5  Sbnr nya hutan milik siapa Kok berani membabal...   \n",
      "6  demi menyenangkan sahabat jokowi si haji Ism j...   \n",
      "7         MampusSuatu saat kalimantan bakalan gundul   \n",
      "8  Kalau orang hidup di kabupaten KKU berdampinga...   \n",
      "9  Kalimantan rusak itu akibat ulah pejabat dan o...   \n",
      "\n",
      "                                     normalized_text  \n",
      "0  hutan bojonegoro udah habis di tebang dan di t...  \n",
      "1      jangan khawatir deforestasi kata pak presiden  \n",
      "2  assalamualaikum izin mengambil salah satu klip...  \n",
      "3  saya tetap yakin kita terlahir dari nenek moya...  \n",
      "4  sekarang rasakan panasnya nggk seperti biasany...  \n",
      "5  sebenarnya  hutan milik siapa  berani membabal...  \n",
      "6  demi menyenangkan sahabat jokowi si haji ism j...  \n",
      "7         mampussuatu saat kalimantan bakalan gundul  \n",
      "8  kalau orang hidup di kabupaten kku berdampinga...  \n",
      "9  kalimantan rusak itu akibat ulah pejabat dan o...  \n"
     ]
    }
   ],
   "source": [
    "input_path = r'D:\\dataset\\dataset_preprocessing.csv'\n",
    "\n",
    "normalization_dict = {\n",
    "    'sbnrnya': 'sebenarnya',\n",
    "    'sbnr': 'sebenarnya',\n",
    "    'ak': 'aku',\n",
    "    'gk': 'gak',\n",
    "    'gak': 'tidak',\n",
    "    'yg': 'yang',\n",
    "    'klo': 'kalau',\n",
    "    'kl': 'kalau',\n",
    "    'bg': 'banget',\n",
    "    'gt': 'gitu',\n",
    "    'gtu': 'gitu',\n",
    "    'jgn': 'jangan',\n",
    "    'gpp': 'gapapa',\n",
    "    'jd': 'jadi',\n",
    "    'org': 'orang',\n",
    "    'tak': 'tidak',\n",
    "    'tgung': 'tanggung',\n",
    "    'sdh': 'sudah',\n",
    "    'dah': 'sudah',\n",
    "    'udh': 'sudah',\n",
    "    'dh': 'sudah',\n",
    "    'bgt': 'banget',\n",
    "    'tmn': 'teman',\n",
    "    'br': 'baru',\n",
    "    'lbh': 'lebih',\n",
    "    'krn': 'karena',\n",
    "    'SDA': 'sumber daya alam',\n",
    "    'seblm': 'sebelum',\n",
    "    'skrg': 'sekarang',\n",
    "    'skr': 'sekarang',\n",
    "    'gedhe': 'gede',\n",
    "    'ngk': 'engga',\n",
    "    'kn': 'kan',\n",
    "    'byk': 'banyak',\n",
    "    'bnyk': 'banyak',\n",
    "    'gw': 'aku',\n",
    "    'gue': 'aku',\n",
    "    'gwk': 'aku',\n",
    "    'loe': 'kamu',\n",
    "    'lu': 'kamu',\n",
    "    'lo': 'kamu',\n",
    "    'elu': 'kamu',\n",
    "    'elo': 'kamu',\n",
    "    'napa': 'kenapa',\n",
    "    'knp': 'kenapa',\n",
    "    'mgkn': 'mungkin',\n",
    "    'gmn': 'gimana',\n",
    "    'bkn': 'bukan',\n",
    "    'bs': 'bisa',\n",
    "    'bisa2': 'bisa-bisa',\n",
    "    'diaa': 'dia',\n",
    "    'bgtu': 'begitu',\n",
    "    'btw': 'ngomong-ngomong',\n",
    "    'dongg': 'dong',\n",
    "    'gituu': 'gitu',\n",
    "    'ntr': 'nanti',\n",
    "    'msh': 'masih',\n",
    "    'mauu': 'mau',\n",
    "    'yakinbgt': 'yakin banget',\n",
    "    'sampe': 'sampai',\n",
    "    'mo': 'mau',\n",
    "    'kek': 'seperti',\n",
    "    'kyk': 'seperti',\n",
    "    'ky': 'kayak',\n",
    "    'ga': 'tidak',\n",
    "    'enggak': 'tidak',\n",
    "    'engga': 'tidak',\n",
    "    'nggak': 'tidak',\n",
    "    'ngga': 'tidak',\n",
    "    'tdk': 'tidak',\n",
    "    'okee': 'oke',\n",
    "    'okeeee': 'oke',\n",
    "    'gtw': 'gatau',\n",
    "    'gatau': 'tidak tahu',\n",
    "    'gaada': 'tidak ada',\n",
    "    'gakada': 'tidak ada',\n",
    "    'gbs': 'tidak bisa',\n",
    "    'gabisa': 'tidak bisa',\n",
    "    'gajadi': 'tidak jadi',\n",
    "    'gapapa': 'tidak apa-apa',\n",
    "    'gausah': 'tidak usah',\n",
    "    'udahlah': 'sudah lah',\n",
    "    'kmn': 'kemana',\n",
    "    'kmna': 'kemana',\n",
    "    'sma': 'sama',\n",
    "    'mls': 'malas',\n",
    "    'mlas': 'malas',\n",
    "    'trs2': 'terus-terus',\n",
    "    'trus2': 'terus-terus',\n",
    "    'mager': 'malas gerak',\n",
    "    'drpd': 'daripada',\n",
    "    'abis': 'habis',\n",
    "    'mg': 'minggu',\n",
    "    'biar': 'agar',\n",
    "    'ampun': 'tidak sanggup',\n",
    "    'parahh': 'parah',\n",
    "    'zz': '',\n",
    "    'zzz': '',\n",
    "    'wkwk': '',\n",
    "    'wkwkwk': '',\n",
    "    'lol': '',\n",
    "    'hehe': '',\n",
    "    'haha': '',\n",
    "    'huhu': '',\n",
    "    'yaa': 'iya',\n",
    "    'iyaaa': 'iya',\n",
    "    'iiya': 'iya',\n",
    "    'okei': 'oke',\n",
    "    'okehh': 'oke',\n",
    "    'heemm': '',\n",
    "    'tp': 'tapi',\n",
    "    'dmn': 'dimana',\n",
    "    'aja': 'saja',\n",
    "    'dg': 'dengan',\n",
    "    'dr': 'dari',\n",
    "    'dpt': 'dapat',\n",
    "    'karna': 'karena',\n",
    "    'blm': 'belum',\n",
    "    'skrng': 'sekarang',\n",
    "    'ntar': 'nanti',\n",
    "    'kpn': 'kapan',\n",
    "    'trs': 'terus',\n",
    "    'pdhl': 'padahal',\n",
    "    'kmrn': 'kemarin',\n",
    "    'km': 'kamu',\n",
    "    'lg': 'lagi',\n",
    "    'mknya': 'makanya',\n",
    "    'trus': 'terus',\n",
    "    'donk': 'dong',\n",
    "    'sih': '',\n",
    "    'deh': '',\n",
    "    'nya': '',\n",
    "    'kok': '',\n",
    "    'hdh': '',\n",
    "    'cuma': 'hanya',\n",
    "    'cuman': 'hanya',\n",
    "    'y': 'ya',\n",
    "    'thx': 'terima kasih',\n",
    "    'thnk': 'terima kasih',\n",
    "    'makasih': 'terima kasih',\n",
    "    'thanks': 'terima kasih',\n",
    "    'sm': 'sama',\n",
    "    'sama2': 'sama-sama',\n",
    "    'sama2': 'sama-sama',\n",
    "    'idan': 'dan',\n",
    "    'pd': 'pada',\n",
    "    'ya': 'iya',\n",
    "    'nggk ': 'engga'\n",
    "}\n",
    "\n",
    "def normalize_text(text):\n",
    "    text = text.lower()\n",
    "    words = text.split()\n",
    "    normalized_words = [normalization_dict.get(word, word) for word in words]\n",
    "    return ' '.join(normalized_words)\n",
    "\n",
    "df['normalized_text'] = df['cleaned_text'].apply(normalize_text)\n",
    "print(df[['cleaned_text', 'normalized_text']].head(10))\n",
    "\n",
    "output_path = r'D:\\dataset\\cleaned_text.csv'\n",
    "df[['normalized_text', 'label_manual']].to_csv(output_path, index=False)"
   ]
  },
  {
   "cell_type": "code",
   "execution_count": 10,
   "id": "879de4af-b65a-43aa-8916-6c1f6d1590bd",
   "metadata": {},
   "outputs": [
    {
     "name": "stdout",
     "output_type": "stream",
     "text": [
      "Jumlah data di dataset: 859\n",
      "\n",
      "Distribusi label_manual pada dataset:\n",
      "label_manual\n",
      "0    522\n",
      "1    289\n",
      "2     48\n",
      "Name: count, dtype: int64\n"
     ]
    }
   ],
   "source": [
    "import pandas as pd\n",
    "\n",
    "# Membaca dataset\n",
    "df = pd.read_csv(r'D:\\dataset\\cleaned_text.csv')\n",
    "\n",
    "# Menampilkan jumlah data di awal\n",
    "print(f\"Jumlah data di dataset: {len(df)}\")\n",
    "\n",
    "# Menampilkan distribusi label pada kolom 'label_manual'\n",
    "print(\"\\nDistribusi label_manual pada dataset:\")\n",
    "print(df['label_manual'].value_counts())"
   ]
  },
  {
   "cell_type": "code",
   "execution_count": 11,
   "id": "af528736-4d1b-457e-bef0-45f3aad604c8",
   "metadata": {},
   "outputs": [
    {
     "name": "stdout",
     "output_type": "stream",
     "text": [
      "Jumlah data untuk training set (setelah oversampling): 1095\n",
      "Jumlah data untuk validation set: 258\n",
      "Distribusi label_manual pada Training Set (setelah oversampling):\n",
      "label_manual\n",
      "0    365\n",
      "1    365\n",
      "2    365\n",
      "Name: count, dtype: int64\n",
      "Distribusi label_manual pada Validation Set:\n",
      "label_manual\n",
      "0    157\n",
      "1     87\n",
      "2     14\n",
      "Name: count, dtype: int64\n",
      "Data telah disimpan ke dalam folder 'dataset':\n",
      "D:\\dataset\\data_train.csv\n",
      "D:\\dataset\\data_val.csv\n"
     ]
    }
   ],
   "source": [
    "import pandas as pd\n",
    "import os\n",
    "from sklearn.model_selection import train_test_split\n",
    "from sklearn.utils import resample\n",
    "\n",
    "# Membaca dataset\n",
    "df = pd.read_csv(r'D:\\dataset\\cleaned_text.csv')\n",
    "\n",
    "# Membuat folder output jika belum ada\n",
    "output_folder = r'D:\\dataset'\n",
    "os.makedirs(output_folder, exist_ok=True)\n",
    "\n",
    "# 1. Bagi dataset menjadi 70% untuk training dan 30% untuk validation\n",
    "train_df, val_df = train_test_split(df, test_size=0.3, random_state=42, stratify=df['label_manual'])\n",
    "\n",
    "# 2. Oversampling pada Training Set\n",
    "df_majority = train_df[train_df['label_manual'] == 0]  # Kelas mayoritas (label = 0)\n",
    "df_minority_1 = train_df[train_df['label_manual'] == 1]  # Kelas minoritas 1 (label = 1)\n",
    "df_minority_2 = train_df[train_df['label_manual'] == 2]  # Kelas minoritas 2 (label = 2)\n",
    "\n",
    "# Oversampling kelas mayoritas dan minoritas agar jumlahnya sama\n",
    "n_samples = max(df_majority.shape[0], df_minority_1.shape[0], df_minority_2.shape[0])\n",
    "\n",
    "df_majority_upsampled = resample(df_majority, replace=True, n_samples=n_samples, random_state=42)\n",
    "df_minority_1_upsampled = resample(df_minority_1, replace=True, n_samples=n_samples, random_state=42)\n",
    "df_minority_2_upsampled = resample(df_minority_2, replace=True, n_samples=n_samples, random_state=42)\n",
    "\n",
    "# Gabungkan data setelah oversampling\n",
    "train_upsampled = pd.concat([df_majority_upsampled, df_minority_1_upsampled, df_minority_2_upsampled])\n",
    "\n",
    "# Cek distribusi label pada training set dan validation set\n",
    "print(f\"Jumlah data untuk training set (setelah oversampling): {len(train_upsampled)}\")\n",
    "print(f\"Jumlah data untuk validation set: {len(val_df)}\")\n",
    "\n",
    "# 4. Cek distribusi label pada masing-masing set\n",
    "print(\"Distribusi label_manual pada Training Set (setelah oversampling):\")\n",
    "print(train_upsampled['label_manual'].value_counts())\n",
    "\n",
    "print(\"Distribusi label_manual pada Validation Set:\")\n",
    "print(val_df['label_manual'].value_counts())\n",
    "\n",
    "# 5. Simpan dataset\n",
    "train_output_path = os.path.join(output_folder, 'data_train.csv')\n",
    "val_output_path = os.path.join(output_folder, 'data_val.csv')\n",
    "\n",
    "train_upsampled.to_csv(train_output_path, index=False)\n",
    "val_df.to_csv(val_output_path, index=False)\n",
    "\n",
    "print(f\"Data telah disimpan ke dalam folder 'dataset':\\n\"\n",
    "      f\"{train_output_path}\\n\"\n",
    "      f\"{val_output_path}\")"
   ]
  },
  {
   "cell_type": "code",
   "execution_count": 12,
   "id": "1a5a1583-32f1-434d-aaea-a45fd3e72dd8",
   "metadata": {},
   "outputs": [
    {
     "data": {
      "image/png": "[encoded data removed]",
      "text/plain": [
       "<Figure size 1200x600 with 1 Axes>"
      ]
     },
     "metadata": {},
     "output_type": "display_data"
    },
    {
     "name": "stdout",
     "output_type": "stream",
     "text": [
      "Jumlah data untuk Training Set (sebelum oversampling): 601\n",
      "Jumlah data untuk Training Set (setelah oversampling): 1095\n",
      "Jumlah data untuk Validation Set: 258\n",
      "\n",
      "Distribusi label_manual pada Training Set (sebelum oversampling):\n",
      "label_manual\n",
      "0    365\n",
      "1    202\n",
      "2     34\n",
      "Name: count, dtype: int64\n",
      "\n",
      "Distribusi label_manual pada Training Set (setelah oversampling):\n",
      "label_manual\n",
      "0    365\n",
      "1    365\n",
      "2    365\n",
      "Name: count, dtype: int64\n",
      "\n",
      "Distribusi label_manual pada Validation Set:\n",
      "label_manual\n",
      "0    157\n",
      "1     87\n",
      "2     14\n",
      "Name: count, dtype: int64\n"
     ]
    }
   ],
   "source": [
    "import matplotlib.pyplot as plt\n",
    "\n",
    "\n",
    "train_data_count = len(train_upsampled)  \n",
    "train_data_count_before_upsampling = len(train_df)  \n",
    "val_data_count = len(val_df)\n",
    "\n",
    "plt.figure(figsize=(12, 6)) \n",
    "\n",
    "\n",
    "labels = ['Train (Before Oversampling)', 'Train (After Oversampling)', 'Validation']\n",
    "data_counts = [train_data_count_before_upsampling, train_data_count, val_data_count]\n",
    "\n",
    "plt.bar(labels, data_counts, color=['blue', 'green', 'orange', 'red'])\n",
    "\n",
    "# jumlah data pada setiap set\n",
    "for i, count in enumerate(data_counts):\n",
    "    plt.text(i, count + 10, f'{count}', ha='center', va='bottom', fontsize=12)\n",
    "\n",
    "# Menambahkan judul dan label\n",
    "plt.title('Distribusi Jumlah Data pada Train, dan Validation (Sebelum dan Setelah Oversampling)')\n",
    "plt.xlabel('Dataset')\n",
    "plt.ylabel('Jumlah Data')\n",
    "plt.show()\n",
    "\n",
    "# 2. Cek distribusi label untuk setiap set\n",
    "print(f\"Jumlah data untuk Training Set (sebelum oversampling): {train_data_count_before_upsampling}\")\n",
    "print(f\"Jumlah data untuk Training Set (setelah oversampling): {train_data_count}\")\n",
    "print(f\"Jumlah data untuk Validation Set: {val_data_count}\")\n",
    "\n",
    "\n",
    "print(\"\\nDistribusi label_manual pada Training Set (sebelum oversampling):\")\n",
    "print(train_df['label_manual'].value_counts())\n",
    "\n",
    "print(\"\\nDistribusi label_manual pada Training Set (setelah oversampling):\")\n",
    "print(train_upsampled['label_manual'].value_counts())\n",
    "\n",
    "print(\"\\nDistribusi label_manual pada Validation Set:\")\n",
    "print(val_df['label_manual'].value_counts())\n",
    "\n"
   ]
  },
  {
   "cell_type": "code",
   "execution_count": 13,
   "id": "9d26fabe-5ffa-494d-bdc0-5eba0a8e0383",
   "metadata": {},
   "outputs": [
    {
     "data": {
      "image/png": "[encoded data removed]",
      "text/plain": [
       "<Figure size 800x600 with 1 Axes>"
      ]
     },
     "metadata": {},
     "output_type": "display_data"
    },
    {
     "name": "stdout",
     "output_type": "stream",
     "text": [
      "\n",
      "Distribusi label pada dataset:\n",
      "label_manual\n",
      "0    522\n",
      "1    289\n",
      "2     48\n",
      "Name: count, dtype: int64\n"
     ]
    }
   ],
   "source": [
    "import pandas as pd\n",
    "import matplotlib.pyplot as plt\n",
    "\n",
    "file_path = r'D:\\dataset\\cleaned_text.csv'\n",
    "df = pd.read_csv(file_path)\n",
    "\n",
    "label_counts = df['label_manual'].value_counts()\n",
    "\n",
    "# Membuat grafik distribusi label\n",
    "plt.figure(figsize=(8, 6))\n",
    "\n",
    "labels = label_counts.index  # Positif, Negatif, Netral\n",
    "counts = label_counts.values \n",
    "\n",
    "plt.bar(labels, counts, color=['blue', 'green', 'orange'])\n",
    "\n",
    "\n",
    "for i, count in enumerate(counts):\n",
    "    plt.text(i, count + 10, f'{count}', ha='center', va='bottom', fontsize=12)\n",
    "\n",
    "# Menambahkan judul dan label\n",
    "plt.title('Distribusi Label pada Dataset (label_manual)')\n",
    "plt.xlabel('Label')\n",
    "plt.ylabel('Jumlah Data')\n",
    "\n",
    "\n",
    "plt.show()\n",
    "\n",
    "print(\"\\nDistribusi label pada dataset:\")\n",
    "print(df['label_manual'].value_counts())"
   ]
  },
  {
   "cell_type": "code",
   "execution_count": 14,
   "id": "5cb52d57-d06c-461d-b926-41f233aee516",
   "metadata": {},
   "outputs": [
    {
     "name": "stdout",
     "output_type": "stream",
     "text": [
      "Hasil tokenisasi train disimpan di: D:\\dataset\\train_tokenized_indobert.csv\n",
      "Hasil tokenisasi val disimpan di: D:\\dataset\\val_tokenized_indobert.csv\n",
      "                                      tokenized_text\n",
      "0  [tensor(3), tensor(8975), tensor(8439), tensor...\n",
      "1  [tensor(3), tensor(6336), tensor(2327), tensor...\n",
      "2  [tensor(3), tensor(25859), tensor(1630), tenso...\n",
      "3  [tensor(3), tensor(9319), tensor(1540), tensor...\n",
      "4  [tensor(3), tensor(1485), tensor(4694), tensor...\n",
      "5  [tensor(3), tensor(3726), tensor(1485), tensor...\n",
      "6  [tensor(3), tensor(6739), tensor(2037), tensor...\n",
      "7  [tensor(3), tensor(8975), tensor(8439), tensor...\n",
      "8  [tensor(3), tensor(1990), tensor(1656), tensor...\n",
      "9  [tensor(3), tensor(1646), tensor(1646), tensor...\n",
      "                                      tokenized_text\n",
      "0  [tensor(3), tensor(26702), tensor(945), tensor...\n",
      "1  [tensor(3), tensor(1821), tensor(19077), tenso...\n",
      "2  [tensor(3), tensor(18639), tensor(1994), tenso...\n",
      "3  [tensor(3), tensor(3720), tensor(18173), tenso...\n",
      "4  [tensor(3), tensor(15089), tensor(5360), tenso...\n",
      "5  [tensor(3), tensor(11339), tensor(4975), tenso...\n",
      "6  [tensor(3), tensor(3132), tensor(4403), tensor...\n",
      "7  [tensor(3), tensor(2280), tensor(5868), tensor...\n",
      "8  [tensor(3), tensor(1990), tensor(19282), tenso...\n",
      "9  [tensor(3), tensor(10642), tensor(2116), tenso...\n"
     ]
    }
   ],
   "source": [
    "import pandas as pd\n",
    "from transformers import AutoTokenizer, AutoModel\n",
    "\n",
    "# Load tokenizer\n",
    "tokenizer = AutoTokenizer.from_pretrained(\"indolem/indobert-base-uncased\")\n",
    "\n",
    "\n",
    "train_df = pd.read_csv(r'D:\\dataset\\data_train.csv')\n",
    "val_df = pd.read_csv(r'D:\\dataset\\data_val.csv')\n",
    "\n",
    "# Tokenisasi, padding, dan truncation untuk setiap set\n",
    "def tokenize_text(text):\n",
    "    if isinstance(text, str) and text.strip() != \"\":\n",
    "        encoding = tokenizer.encode_plus(\n",
    "            text,\n",
    "            add_special_tokens=True,\n",
    "            max_length=128,  \n",
    "            padding='max_length',\n",
    "            truncation=True,\n",
    "            return_tensors='pt'\n",
    "        )\n",
    "        input_ids = encoding['input_ids'].flatten()\n",
    "        return input_ids\n",
    "    else:\n",
    "        return []\n",
    "\n",
    "# Tokenisasi untuk train dan validation set\n",
    "train_df['tokenized_text'] = train_df['normalized_text'].apply(lambda x: tokenize_text(x))\n",
    "val_df['tokenized_text'] = val_df['normalized_text'].apply(lambda x: tokenize_text(x))\n",
    "\n",
    "# Menambahkan panjang token untuk masing-masing dataset\n",
    "train_df['tokenized_length'] = train_df['tokenized_text'].apply(len)\n",
    "val_df['tokenized_length'] = val_df['tokenized_text'].apply(len)\n",
    "\n",
    "\n",
    "train_output_path = r'D:\\dataset\\train_tokenized_indobert.csv'\n",
    "val_output_path = r'D:\\dataset\\val_tokenized_indobert.csv'\n",
    "\n",
    "train_df.to_csv(train_output_path, index=False)\n",
    "val_df.to_csv(val_output_path, index=False)\n",
    "\n",
    "print(f\"Hasil tokenisasi train disimpan di: {train_output_path}\")\n",
    "print(f\"Hasil tokenisasi val disimpan di: {val_output_path}\")\n",
    "\n",
    "print(train_df[['tokenized_text']].head(10))\n",
    "print(val_df[['tokenized_text']].head(10))"
   ]
  },
  {
   "cell_type": "code",
   "execution_count": 15,
   "id": "c446a430-2487-4f6d-8381-5611f7a43889",
   "metadata": {},
   "outputs": [
    {
     "name": "stdout",
     "output_type": "stream",
     "text": [
      "Index(['normalized_text', 'label_manual'], dtype='object')\n"
     ]
    }
   ],
   "source": [
    "print(df.columns)"
   ]
  },
  {
   "cell_type": "code",
   "execution_count": 16,
   "id": "9c4dd173-e2b4-4a9b-85d6-dc459a66c523",
   "metadata": {},
   "outputs": [
    {
     "name": "stdout",
     "output_type": "stream",
     "text": [
      "                                      tokenized_text  \\\n",
      "0  [tensor(3), tensor(8975), tensor(8439), tensor...   \n",
      "1  [tensor(3), tensor(6336), tensor(2327), tensor...   \n",
      "2  [tensor(3), tensor(25859), tensor(1630), tenso...   \n",
      "3  [tensor(3), tensor(9319), tensor(1540), tensor...   \n",
      "4  [tensor(3), tensor(1485), tensor(4694), tensor...   \n",
      "\n",
      "                                      attention_mask  \n",
      "0  [1, 1, 1, 1, 1, 1, 1, 1, 1, 1, 1, 1, 1, 1, 1, ...  \n",
      "1  [1, 1, 1, 1, 1, 0, 0, 0, 0, 0, 0, 0, 0, 0, 0, ...  \n",
      "2  [1, 1, 1, 1, 1, 1, 1, 1, 1, 1, 1, 1, 1, 1, 0, ...  \n",
      "3  [1, 1, 1, 1, 1, 1, 1, 1, 1, 1, 1, 1, 1, 1, 1, ...  \n",
      "4  [1, 1, 1, 1, 1, 1, 1, 1, 1, 1, 1, 1, 1, 1, 1, ...  \n",
      "                                      tokenized_text  \\\n",
      "0  [tensor(3), tensor(26702), tensor(945), tensor...   \n",
      "1  [tensor(3), tensor(1821), tensor(19077), tenso...   \n",
      "2  [tensor(3), tensor(18639), tensor(1994), tenso...   \n",
      "3  [tensor(3), tensor(3720), tensor(18173), tenso...   \n",
      "4  [tensor(3), tensor(15089), tensor(5360), tenso...   \n",
      "\n",
      "                                      attention_mask  \n",
      "0  [1, 1, 1, 1, 1, 1, 1, 1, 1, 1, 1, 1, 1, 1, 1, ...  \n",
      "1  [1, 1, 1, 1, 1, 1, 1, 1, 1, 1, 1, 1, 1, 1, 1, ...  \n",
      "2  [1, 1, 1, 1, 1, 1, 1, 1, 1, 0, 0, 0, 0, 0, 0, ...  \n",
      "3  [1, 1, 1, 1, 1, 1, 1, 1, 1, 0, 0, 0, 0, 0, 0, ...  \n",
      "4  [1, 1, 1, 1, 1, 1, 1, 1, 1, 1, 1, 1, 1, 1, 1, ...  \n",
      "Data dengan attention mask telah disimpan di:\n",
      "D:\\dataset\\train_with_attention_mask.csv\n",
      "D:\\dataset\\val_with_attention_mask.csv\n",
      "\n"
     ]
    }
   ],
   "source": [
    "# Fungsi untuk membuat attention mask\n",
    "def create_attention_mask(input_ids):\n",
    "    attention_mask = [1 if token_id != tokenizer.pad_token_id else 0 for token_id in input_ids]\n",
    "    return attention_mask\n",
    "\n",
    "# Terapkan attention mask pada kolom 'tokenized_text' untuk train, validation, \n",
    "train_df['attention_mask'] = train_df['tokenized_text'].apply(lambda x: create_attention_mask(x))\n",
    "val_df['attention_mask'] = val_df['tokenized_text'].apply(lambda x: create_attention_mask(x))\n",
    "\n",
    "# Cek hasilnya\n",
    "print(train_df[['tokenized_text', 'attention_mask']].head())\n",
    "print(val_df[['tokenized_text', 'attention_mask']].head())\n",
    "\n",
    "# Simpan data yang sudah ditambahkan attention mask\n",
    "train_output_path = r'D:\\dataset\\train_with_attention_mask.csv'\n",
    "val_output_path = r'D:\\dataset\\val_with_attention_mask.csv'\n",
    "\n",
    "train_df.to_csv(train_output_path, index=False)\n",
    "val_df.to_csv(val_output_path, index=False)\n",
    "\n",
    "print(f\"Data dengan attention mask telah disimpan di:\\n\"\n",
    "      f\"{train_output_path}\\n\"\n",
    "      f\"{val_output_path}\\n\")"
   ]
  },
  {
   "cell_type": "code",
   "execution_count": 17,
   "id": "f7ee3ce9-3802-4208-b7be-325ea407c56f",
   "metadata": {},
   "outputs": [
    {
     "name": "stdout",
     "output_type": "stream",
     "text": [
      "                                      tokenized_text  \\\n",
      "0  [tensor(3), tensor(8975), tensor(8439), tensor...   \n",
      "1  [tensor(3), tensor(6336), tensor(2327), tensor...   \n",
      "2  [tensor(3), tensor(25859), tensor(1630), tenso...   \n",
      "3  [tensor(3), tensor(9319), tensor(1540), tensor...   \n",
      "4  [tensor(3), tensor(1485), tensor(4694), tensor...   \n",
      "\n",
      "                                      attention_mask  \\\n",
      "0  [1, 1, 1, 1, 1, 1, 1, 1, 1, 1, 1, 1, 1, 1, 1, ...   \n",
      "1  [1, 1, 1, 1, 1, 0, 0, 0, 0, 0, 0, 0, 0, 0, 0, ...   \n",
      "2  [1, 1, 1, 1, 1, 1, 1, 1, 1, 1, 1, 1, 1, 1, 0, ...   \n",
      "3  [1, 1, 1, 1, 1, 1, 1, 1, 1, 1, 1, 1, 1, 1, 1, ...   \n",
      "4  [1, 1, 1, 1, 1, 1, 1, 1, 1, 1, 1, 1, 1, 1, 1, ...   \n",
      "\n",
      "                                    input_ids_tensor  \\\n",
      "0  [tensor(3), tensor(8975), tensor(8439), tensor...   \n",
      "1  [tensor(3), tensor(6336), tensor(2327), tensor...   \n",
      "2  [tensor(3), tensor(25859), tensor(1630), tenso...   \n",
      "3  [tensor(3), tensor(9319), tensor(1540), tensor...   \n",
      "4  [tensor(3), tensor(1485), tensor(4694), tensor...   \n",
      "\n",
      "                               attention_mask_tensor  \n",
      "0  [tensor(1), tensor(1), tensor(1), tensor(1), t...  \n",
      "1  [tensor(1), tensor(1), tensor(1), tensor(1), t...  \n",
      "2  [tensor(1), tensor(1), tensor(1), tensor(1), t...  \n",
      "3  [tensor(1), tensor(1), tensor(1), tensor(1), t...  \n",
      "4  [tensor(1), tensor(1), tensor(1), tensor(1), t...  \n",
      "                                      tokenized_text  \\\n",
      "0  [tensor(3), tensor(26702), tensor(945), tensor...   \n",
      "1  [tensor(3), tensor(1821), tensor(19077), tenso...   \n",
      "2  [tensor(3), tensor(18639), tensor(1994), tenso...   \n",
      "3  [tensor(3), tensor(3720), tensor(18173), tenso...   \n",
      "4  [tensor(3), tensor(15089), tensor(5360), tenso...   \n",
      "\n",
      "                                      attention_mask  \\\n",
      "0  [1, 1, 1, 1, 1, 1, 1, 1, 1, 1, 1, 1, 1, 1, 1, ...   \n",
      "1  [1, 1, 1, 1, 1, 1, 1, 1, 1, 1, 1, 1, 1, 1, 1, ...   \n",
      "2  [1, 1, 1, 1, 1, 1, 1, 1, 1, 0, 0, 0, 0, 0, 0, ...   \n",
      "3  [1, 1, 1, 1, 1, 1, 1, 1, 1, 0, 0, 0, 0, 0, 0, ...   \n",
      "4  [1, 1, 1, 1, 1, 1, 1, 1, 1, 1, 1, 1, 1, 1, 1, ...   \n",
      "\n",
      "                                    input_ids_tensor  \\\n",
      "0  [tensor(3), tensor(26702), tensor(945), tensor...   \n",
      "1  [tensor(3), tensor(1821), tensor(19077), tenso...   \n",
      "2  [tensor(3), tensor(18639), tensor(1994), tenso...   \n",
      "3  [tensor(3), tensor(3720), tensor(18173), tenso...   \n",
      "4  [tensor(3), tensor(15089), tensor(5360), tenso...   \n",
      "\n",
      "                               attention_mask_tensor  \n",
      "0  [tensor(1), tensor(1), tensor(1), tensor(1), t...  \n",
      "1  [tensor(1), tensor(1), tensor(1), tensor(1), t...  \n",
      "2  [tensor(1), tensor(1), tensor(1), tensor(1), t...  \n",
      "3  [tensor(1), tensor(1), tensor(1), tensor(1), t...  \n",
      "4  [tensor(1), tensor(1), tensor(1), tensor(1), t...  \n"
     ]
    }
   ],
   "source": [
    "import torch\n",
    "\n",
    "# Fungsi untuk mengonversi tokenized_text dan attention_mask ke tensor\n",
    "def convert_to_tensor(input_ids, attention_mask):\n",
    "    input_ids_tensor = input_ids.detach().clone() if isinstance(input_ids, torch.Tensor) else torch.tensor(input_ids)\n",
    "    attention_mask_tensor = attention_mask.detach().clone() if isinstance(attention_mask, torch.Tensor) else torch.tensor(attention_mask)\n",
    "    return input_ids_tensor, attention_mask_tensor\n",
    "\n",
    "train_df['input_ids_tensor'], train_df['attention_mask_tensor'] = zip(*train_df.apply(lambda row: convert_to_tensor(row['tokenized_text'], row['attention_mask']), axis=1))\n",
    "val_df['input_ids_tensor'], val_df['attention_mask_tensor'] = zip(*val_df.apply(lambda row: convert_to_tensor(row['tokenized_text'], row['attention_mask']), axis=1))\n",
    "# Cek hasilnya\n",
    "print(train_df[['tokenized_text', 'attention_mask', 'input_ids_tensor', 'attention_mask_tensor']].head())\n",
    "print(val_df[['tokenized_text', 'attention_mask', 'input_ids_tensor', 'attention_mask_tensor']].head())"
   ]
  },
  {
   "cell_type": "code",
   "execution_count": 18,
   "id": "2c1d5980-1639-4478-95c0-5fbba6401581",
   "metadata": {},
   "outputs": [
    {
     "name": "stdout",
     "output_type": "stream",
     "text": [
      "Jumlah data untuk training set: 1095\n",
      "Jumlah data untuk validation set: 258\n"
     ]
    }
   ],
   "source": [
    "print(f\"Jumlah data untuk training set: {len(train_df)}\")\n",
    "print(f\"Jumlah data untuk validation set: {len(val_df)}\")"
   ]
  },
  {
   "cell_type": "code",
   "execution_count": 19,
   "id": "c301605a-59de-497b-abf9-ef8b4f161cf6",
   "metadata": {},
   "outputs": [],
   "source": [
    "# Validasi ukuran data\n",
    "assert len(train_df['input_ids_tensor']) == len(train_df['attention_mask_tensor']) == len(train_df['label_manual'])\n",
    "assert len(val_df['input_ids_tensor']) == len(val_df['attention_mask_tensor']) == len(val_df['label_manual'])\n",
    "\n",
    "# Dataset class\n",
    "class SentimentDataset(Dataset):\n",
    "    def __init__(self, input_ids, attention_mask, labels):\n",
    "        self.input_ids = input_ids\n",
    "        self.attention_mask = attention_mask\n",
    "        self.labels = labels\n",
    "\n",
    "    def __len__(self):\n",
    "        return len(self.input_ids)\n",
    "\n",
    "    def __getitem__(self, idx):\n",
    "        return {\n",
    "            'input_ids': self.input_ids[idx],\n",
    "            'attention_mask': self.attention_mask[idx],\n",
    "            'labels': self.labels[idx]\n",
    "        }\n",
    "\n",
    "# Membuat dataset untuk training, validation, dan test\n",
    "train_dataset = SentimentDataset(\n",
    "    torch.stack(train_df['input_ids_tensor'].tolist()),\n",
    "    torch.stack(train_df['attention_mask_tensor'].tolist()),\n",
    "    torch.tensor(train_df['label_manual'].values)\n",
    ")\n",
    "\n",
    "val_dataset = SentimentDataset(\n",
    "    torch.stack(val_df['input_ids_tensor'].tolist()),\n",
    "    torch.stack(val_df['attention_mask_tensor'].tolist()),\n",
    "    torch.tensor(val_df['label_manual'].values)\n",
    ")"
   ]
  },
  {
   "cell_type": "code",
   "execution_count": 20,
   "id": "7a4324e4-b447-4d0f-b62f-7d7dd08910ff",
   "metadata": {},
   "outputs": [],
   "source": [
    "train_loader = DataLoader(train_dataset, batch_size=16, shuffle=True)\n",
    "val_loader = DataLoader(val_dataset, batch_size=32)"
   ]
  },
  {
   "cell_type": "code",
   "execution_count": 21,
   "id": "e9a3711c-1478-47bb-9d6a-b88ed7780fee",
   "metadata": {},
   "outputs": [],
   "source": [
    "class CustomBertClassifier(torch.nn.Module):\n",
    "    def __init__(self, base_model, num_labels=3, hidden_layer=True):  \n",
    "        super().__init__()\n",
    "        self.bert = base_model\n",
    "        self.num_labels = num_labels\n",
    "        if hidden_layer:  \n",
    "            self.hidden = torch.nn.Linear(self.bert.config.hidden_size, 128)\n",
    "            self.classifier = torch.nn.Linear(128, num_labels)\n",
    "        else:\n",
    "            self.classifier = torch.nn.Linear(self.bert.config.hidden_size, num_labels)\n",
    "\n",
    "    def forward(self, input_ids, attention_mask, labels=None):\n",
    "        outputs = self.bert(input_ids, attention_mask=attention_mask)\n",
    "        hidden_state = outputs.last_hidden_state[:, 0, :]\n",
    "        \n",
    "        if hasattr(self, 'hidden'):\n",
    "            hidden_state = self.hidden(hidden_state)\n",
    "        \n",
    "        logits = self.classifier(hidden_state)\n",
    "\n",
    "        if labels is not None:\n",
    "            loss_fct = nn.CrossEntropyLoss()\n",
    "            loss = loss_fct(logits.view(-1, self.num_labels), labels.view(-1))\n",
    "            return loss, logits  \n",
    "\n",
    "        return logits  \n",
    "\n",
    "# Membekukan seluruh lapisan BERT (backbone)\n",
    "base_model = AutoModel.from_pretrained(\"indolem/indobert-base-uncased\")\n",
    "\n",
    "# Model dengan lapisan tersembunyi\n",
    "model_with_hidden = CustomBertClassifier(base_model=base_model, hidden_layer=True)\n",
    "\n",
    "# Model tanpa lapisan tersembunyi\n",
    "model_without_hidden = CustomBertClassifier(base_model=base_model, hidden_layer=False)"
   ]
  },
  {
   "cell_type": "code",
   "execution_count": 22,
   "id": "ed7465c9-989d-4fbe-89a2-942ee790d1a2",
   "metadata": {},
   "outputs": [],
   "source": [
    "# Membekukan seluruh lapisan BERT (backbone)\n",
    "model = CustomBertClassifier(base_model=AutoModel.from_pretrained(\"indolem/indobert-base-uncased\"), hidden_layer=True)"
   ]
  },
  {
   "cell_type": "code",
   "execution_count": 23,
   "id": "17b716dd-1083-4f2a-a96e-9162bf830bbc",
   "metadata": {},
   "outputs": [],
   "source": [
    "for param in model.bert.parameters():\n",
    "    param.requires_grad = False\n",
    "\n",
    "# Hanya komponen klasifikasi yang akan dilatih (self.classifier atau self.hidden)\n",
    "for param in model.classifier.parameters():\n",
    "    param.requires_grad = True\n",
    "\n",
    "if hasattr(model, 'hidden'):\n",
    "    for param in model.hidden.parameters():\n",
    "        param.requires_grad = True\n",
    "else:\n",
    "    pass"
   ]
  },
  {
   "cell_type": "code",
   "execution_count": 22,
   "id": "2c4cf548-8fb4-4b2c-a65e-3fe9608e1c39",
   "metadata": {},
   "outputs": [
    {
     "name": "stdout",
     "output_type": "stream",
     "text": [
      "Jumlah data untuk training set: 1080\n",
      "Jumlah data untuk validation set: 255\n"
     ]
    }
   ],
   "source": [
    "print(f\"Jumlah data untuk training set: {len(train_df)}\")\n",
    "print(f\"Jumlah data untuk validation set: {len(val_df)}\")"
   ]
  },
  {
   "cell_type": "code",
   "execution_count": 23,
   "id": "435576c8-5f5d-4de1-8a38-b9fc53df2d75",
   "metadata": {},
   "outputs": [],
   "source": [
    "def log_metrics_to_csv(metrics, epoch, filename='metrics_log.csv'):\n",
    "    file_exists = False\n",
    "    try:\n",
    "        with open(filename, 'r') as file:\n",
    "            file_exists = True\n",
    "    except FileNotFoundError:\n",
    "        pass\n",
    "\n",
    "    with open(filename, mode='a', newline='') as file:\n",
    "        writer = csv.writer(file)\n",
    "        if not file_exists:\n",
    "            writer.writerow(['epoch', 'accuracy', 'precision', 'recall', 'f1'])\n",
    "\n",
    "        writer.writerow([epoch, metrics['accuracy'], metrics['precision'], metrics['recall'], metrics['f1']])"
   ]
  },
  {
   "cell_type": "code",
   "execution_count": 24,
   "id": "a24292bc-be42-4d9b-adc8-5f92f1618bac",
   "metadata": {},
   "outputs": [],
   "source": [
    "from sklearn.metrics import accuracy_score, precision_score, recall_score, f1_score\n",
    "import numpy as np\n",
    "\n",
    "def compute_metrics(p):\n",
    "    predictions, labels = p\n",
    "    preds = np.argmax(predictions, axis=1)\n",
    "    metrics = {\n",
    "        'accuracy': accuracy_score(labels, preds),  # Akurasi\n",
    "        'precision': precision_score(labels, preds, average='weighted'),  # Precision\n",
    "        'recall': recall_score(labels, preds, average='weighted'),  # Recall\n",
    "        'f1': f1_score(labels, preds, average='weighted')  # F1 score\n",
    "    }\n",
    "    return metrics\n",
    "\n",
    "def evaluate_validation_metrics(trainer):\n",
    "    eval_results = trainer.evaluate()\n",
    "    eval_metrics = {\n",
    "        'validation_accuracy': eval_results.get(\"eval_accuracy\", None),\n",
    "        'validation_precision': eval_results.get(\"eval_precision\", None),\n",
    "        'validation_recall': eval_results.get(\"eval_recall\", None),\n",
    "        'validation_f1': eval_results.get(\"eval_f1\", None),\n",
    "    }\n",
    "    return eval_metrics"
   ]
  },
  {
   "cell_type": "code",
   "execution_count": 34,
   "id": "56f47b95-ff0c-4768-a635-3bf07c3d9fa0",
   "metadata": {},
   "outputs": [],
   "source": [
    "import time\n",
    "import pandas as pd\n",
    "import numpy as np\n",
    "import torch.nn as nn\n",
    "from sklearn.metrics import f1_score\n",
    "from transformers import AutoModelForSequenceClassification, Trainer, TrainingArguments, TrainerCallback\n",
    "from torch.optim import AdamW\n",
    "\n",
    "class TimingCallback(TrainerCallback):\n",
    "    def __init__(self, trainer):\n",
    "        self.trainer = trainer\n",
    "\n",
    "    def on_epoch_begin(self, args, state, control, **kwargs):\n",
    "        self.start_time = time.time()\n",
    "\n",
    "    def on_epoch_end(self, args, state, control, **kwargs):\n",
    "        training_time = time.time() - self.start_time\n",
    "\n",
    "        # Waktu validasi\n",
    "        val_start_time = time.time()\n",
    "        eval_results = self.trainer.evaluate()\n",
    "        val_end_time = time.time()\n",
    "        val_time = val_end_time - val_start_time\n",
    "\n",
    "        training_loss = None\n",
    "        if len(self.trainer.state.log_history) > 0 and \"loss\" in self.trainer.state.log_history[-1]:\n",
    "            training_loss = self.trainer.state.log_history[-1][\"loss\"]\n",
    "\n",
    "        \n",
    "        train_predictions = self.trainer.predict(train_dataset).predictions\n",
    "        train_labels = self.trainer.predict(train_dataset).label_ids\n",
    "        train_preds = np.argmax(train_predictions, axis=1)\n",
    "        train_f1 = f1_score(train_labels, train_preds, average='weighted')\n",
    "\n",
    "        epoch_results = {\n",
    "            \"Epoch\": state.epoch,\n",
    "            \"Training Loss\": training_loss,\n",
    "            \"Validation Loss\": eval_results[\"eval_loss\"] if \"eval_loss\" in eval_results else None,\n",
    "            \"Training F1\": train_f1,\n",
    "            \"Validation Accuracy\": eval_results[\"eval_accuracy\"] if \"eval_accuracy\" in eval_results else None,\n",
    "            \"Validation Precision\": eval_results[\"eval_precision\"] if \"eval_precision\" in eval_results else None,\n",
    "            \"Validation Recall\": eval_results[\"eval_recall\"] if \"eval_recall\" in eval_results else None,\n",
    "            \"Validation F1\": eval_results[\"eval_f1\"] if \"eval_f1\" in eval_results else None,\n",
    "            \"Training Time (s)\": training_time,\n",
    "            \"Validation Time (s)\": val_time\n",
    "        }\n",
    "        epoch_results_list.append(epoch_results)\n",
    "\n",
    "# Model dengan lapisan tersembunyi\n",
    "model_with_hidden = CustomBertClassifier(base_model=base_model, hidden_layer=True)\n",
    "\n",
    "# Model tanpa lapisan tersembunyi\n",
    "model_without_hidden = CustomBertClassifier(base_model=base_model, hidden_layer=False)\n",
    "\n",
    "learning_rates = [5e-5]\n",
    "epochs = [50]\n",
    "\n",
    "epoch_results_list = []\n",
    "\n",
    "# Waktu mulai pelatihan\n",
    "start_time = time.time()  \n",
    "\n",
    "# Pengaturan untuk training arguments\n",
    "training_args = TrainingArguments(\n",
    "    output_dir='./results',  \n",
    "    num_train_epochs=epochs[0], \n",
    "    per_device_train_batch_size=8,\n",
    "    per_device_eval_batch_size=16,\n",
    "    warmup_steps=500,\n",
    "    learning_rate=learning_rates[0],\n",
    "    logging_dir='./logs',\n",
    "    logging_steps=1,\n",
    "    eval_strategy=\"epoch\",\n",
    "    save_strategy=\"epoch\",\n",
    "    load_best_model_at_end=True,\n",
    "    lr_scheduler_type=\"linear\",\n",
    ")\n",
    "\n",
    "# Optimizer untuk masing-masing model\n",
    "optimizer_with_hidden = AdamW(model_with_hidden.parameters(), lr=learning_rates[0])\n",
    "optimizer_without_hidden = AdamW(model_without_hidden.parameters(), lr=learning_rates[0])\n",
    "\n",
    "timing_callback = TimingCallback(trainer=None)\n",
    "\n",
    "# Trainer untuk model dengan lapisan tersembunyi\n",
    "trainer_with_hidden = Trainer(\n",
    "    model=model_with_hidden,\n",
    "    args=training_args,\n",
    "    train_dataset=train_dataset,\n",
    "    eval_dataset=val_dataset,\n",
    "    compute_metrics=compute_metrics,\n",
    "    optimizers=(optimizer_with_hidden, None),\n",
    "    callbacks=[timing_callback]\n",
    ")\n",
    "timing_callback.trainer = trainer_with_hidden \n",
    "\n",
    "# Trainer untuk model tanpa lapisan tersembunyi\n",
    "trainer_without_hidden = Trainer(\n",
    "    model=model_without_hidden,\n",
    "    args=training_args,\n",
    "    train_dataset=train_dataset,\n",
    "    eval_dataset=val_dataset,\n",
    "    compute_metrics=compute_metrics,\n",
    "    optimizers=(optimizer_without_hidden, None),\n",
    "    callbacks=[timing_callback]\n",
    ")\n",
    "timing_callback.trainer = trainer_without_hidden"
   ]
  },
  {
   "cell_type": "code",
   "execution_count": 36,
   "id": "ddb4afba-ee1c-4126-8bbd-ed6cdabb160a",
   "metadata": {
    "scrolled": true
   },
   "outputs": [
    {
     "name": "stdout",
     "output_type": "stream",
     "text": [
      "Training with learning rate: 5e-05, epochs: 50 with Hidden Layer\n"
     ]
    },
    {
     "data": {
      "text/html": [
       "\n",
       "    <div>\n",
       "      \n",
       "      <progress value='6750' max='6750' style='width:300px; height:20px; vertical-align: middle;'></progress>\n",
       "      [6750/6750 1:12:01, Epoch 50/50]\n",
       "    </div>\n",
       "    <table border=\"1\" class=\"dataframe\">\n",
       "  <thead>\n",
       " <tr style=\"text-align: left;\">\n",
       "      <th>Epoch</th>\n",
       "      <th>Training Loss</th>\n",
       "      <th>Validation Loss</th>\n",
       "      <th>Accuracy</th>\n",
       "      <th>Precision</th>\n",
       "      <th>Recall</th>\n",
       "      <th>F1</th>\n",
       "    </tr>\n",
       "  </thead>\n",
       "  <tbody>\n",
       "    <tr>\n",
       "      <td>1</td>\n",
       "      <td>0.001900</td>\n",
       "      <td>2.302707</td>\n",
       "      <td>0.647059</td>\n",
       "      <td>0.623902</td>\n",
       "      <td>0.647059</td>\n",
       "      <td>0.622316</td>\n",
       "    </tr>\n",
       "    <tr>\n",
       "      <td>2</td>\n",
       "      <td>0.000500</td>\n",
       "      <td>2.818357</td>\n",
       "      <td>0.654902</td>\n",
       "      <td>0.632258</td>\n",
       "      <td>0.654902</td>\n",
       "      <td>0.627916</td>\n",
       "    </tr>\n",
       "    <tr>\n",
       "      <td>3</td>\n",
       "      <td>0.000200</td>\n",
       "      <td>3.084029</td>\n",
       "      <td>0.658824</td>\n",
       "      <td>0.637062</td>\n",
       "      <td>0.658824</td>\n",
       "      <td>0.636221</td>\n",
       "    </tr>\n",
       "    <tr>\n",
       "      <td>4</td>\n",
       "      <td>0.000100</td>\n",
       "      <td>3.285408</td>\n",
       "      <td>0.654902</td>\n",
       "      <td>0.628309</td>\n",
       "      <td>0.654902</td>\n",
       "      <td>0.629911</td>\n",
       "    </tr>\n",
       "    <tr>\n",
       "      <td>5</td>\n",
       "      <td>0.000100</td>\n",
       "      <td>3.409551</td>\n",
       "      <td>0.654902</td>\n",
       "      <td>0.628309</td>\n",
       "      <td>0.654902</td>\n",
       "      <td>0.629911</td>\n",
       "    </tr>\n",
       "    <tr>\n",
       "      <td>6</td>\n",
       "      <td>0.000000</td>\n",
       "      <td>3.509858</td>\n",
       "      <td>0.654902</td>\n",
       "      <td>0.628309</td>\n",
       "      <td>0.654902</td>\n",
       "      <td>0.629911</td>\n",
       "    </tr>\n",
       "    <tr>\n",
       "      <td>7</td>\n",
       "      <td>0.000000</td>\n",
       "      <td>3.584178</td>\n",
       "      <td>0.654902</td>\n",
       "      <td>0.628309</td>\n",
       "      <td>0.654902</td>\n",
       "      <td>0.629911</td>\n",
       "    </tr>\n",
       "    <tr>\n",
       "      <td>8</td>\n",
       "      <td>0.000000</td>\n",
       "      <td>3.645599</td>\n",
       "      <td>0.658824</td>\n",
       "      <td>0.632746</td>\n",
       "      <td>0.658824</td>\n",
       "      <td>0.633221</td>\n",
       "    </tr>\n",
       "    <tr>\n",
       "      <td>9</td>\n",
       "      <td>0.000000</td>\n",
       "      <td>3.727975</td>\n",
       "      <td>0.650980</td>\n",
       "      <td>0.623663</td>\n",
       "      <td>0.650980</td>\n",
       "      <td>0.619800</td>\n",
       "    </tr>\n",
       "    <tr>\n",
       "      <td>10</td>\n",
       "      <td>0.000000</td>\n",
       "      <td>3.763452</td>\n",
       "      <td>0.654902</td>\n",
       "      <td>0.628220</td>\n",
       "      <td>0.654902</td>\n",
       "      <td>0.626639</td>\n",
       "    </tr>\n",
       "    <tr>\n",
       "      <td>11</td>\n",
       "      <td>0.000000</td>\n",
       "      <td>3.809366</td>\n",
       "      <td>0.654902</td>\n",
       "      <td>0.628220</td>\n",
       "      <td>0.654902</td>\n",
       "      <td>0.626639</td>\n",
       "    </tr>\n",
       "    <tr>\n",
       "      <td>12</td>\n",
       "      <td>0.000000</td>\n",
       "      <td>3.854069</td>\n",
       "      <td>0.650980</td>\n",
       "      <td>0.623585</td>\n",
       "      <td>0.650980</td>\n",
       "      <td>0.621625</td>\n",
       "    </tr>\n",
       "    <tr>\n",
       "      <td>13</td>\n",
       "      <td>0.000000</td>\n",
       "      <td>3.888390</td>\n",
       "      <td>0.650980</td>\n",
       "      <td>0.623585</td>\n",
       "      <td>0.650980</td>\n",
       "      <td>0.621625</td>\n",
       "    </tr>\n",
       "    <tr>\n",
       "      <td>14</td>\n",
       "      <td>0.000000</td>\n",
       "      <td>3.923915</td>\n",
       "      <td>0.650980</td>\n",
       "      <td>0.623585</td>\n",
       "      <td>0.650980</td>\n",
       "      <td>0.621625</td>\n",
       "    </tr>\n",
       "    <tr>\n",
       "      <td>15</td>\n",
       "      <td>0.000000</td>\n",
       "      <td>3.954748</td>\n",
       "      <td>0.654902</td>\n",
       "      <td>0.628220</td>\n",
       "      <td>0.654902</td>\n",
       "      <td>0.626639</td>\n",
       "    </tr>\n",
       "    <tr>\n",
       "      <td>16</td>\n",
       "      <td>0.000000</td>\n",
       "      <td>3.984748</td>\n",
       "      <td>0.654902</td>\n",
       "      <td>0.628220</td>\n",
       "      <td>0.654902</td>\n",
       "      <td>0.626639</td>\n",
       "    </tr>\n",
       "    <tr>\n",
       "      <td>17</td>\n",
       "      <td>0.000000</td>\n",
       "      <td>4.014687</td>\n",
       "      <td>0.654902</td>\n",
       "      <td>0.628220</td>\n",
       "      <td>0.654902</td>\n",
       "      <td>0.626639</td>\n",
       "    </tr>\n",
       "    <tr>\n",
       "      <td>18</td>\n",
       "      <td>0.000000</td>\n",
       "      <td>4.042725</td>\n",
       "      <td>0.654902</td>\n",
       "      <td>0.628220</td>\n",
       "      <td>0.654902</td>\n",
       "      <td>0.626639</td>\n",
       "    </tr>\n",
       "    <tr>\n",
       "      <td>19</td>\n",
       "      <td>0.000000</td>\n",
       "      <td>4.068509</td>\n",
       "      <td>0.654902</td>\n",
       "      <td>0.628220</td>\n",
       "      <td>0.654902</td>\n",
       "      <td>0.626639</td>\n",
       "    </tr>\n",
       "    <tr>\n",
       "      <td>20</td>\n",
       "      <td>0.544800</td>\n",
       "      <td>1.857569</td>\n",
       "      <td>0.576471</td>\n",
       "      <td>0.638823</td>\n",
       "      <td>0.576471</td>\n",
       "      <td>0.599570</td>\n",
       "    </tr>\n",
       "    <tr>\n",
       "      <td>21</td>\n",
       "      <td>0.724400</td>\n",
       "      <td>1.424307</td>\n",
       "      <td>0.572549</td>\n",
       "      <td>0.607843</td>\n",
       "      <td>0.572549</td>\n",
       "      <td>0.576740</td>\n",
       "    </tr>\n",
       "    <tr>\n",
       "      <td>22</td>\n",
       "      <td>0.449300</td>\n",
       "      <td>1.697835</td>\n",
       "      <td>0.529412</td>\n",
       "      <td>0.570357</td>\n",
       "      <td>0.529412</td>\n",
       "      <td>0.547869</td>\n",
       "    </tr>\n",
       "    <tr>\n",
       "      <td>23</td>\n",
       "      <td>0.937500</td>\n",
       "      <td>2.027233</td>\n",
       "      <td>0.607843</td>\n",
       "      <td>0.600616</td>\n",
       "      <td>0.607843</td>\n",
       "      <td>0.604042</td>\n",
       "    </tr>\n",
       "    <tr>\n",
       "      <td>24</td>\n",
       "      <td>0.026900</td>\n",
       "      <td>1.999722</td>\n",
       "      <td>0.619608</td>\n",
       "      <td>0.594045</td>\n",
       "      <td>0.619608</td>\n",
       "      <td>0.600960</td>\n",
       "    </tr>\n",
       "    <tr>\n",
       "      <td>25</td>\n",
       "      <td>0.014900</td>\n",
       "      <td>2.265159</td>\n",
       "      <td>0.615686</td>\n",
       "      <td>0.594197</td>\n",
       "      <td>0.615686</td>\n",
       "      <td>0.592494</td>\n",
       "    </tr>\n",
       "    <tr>\n",
       "      <td>26</td>\n",
       "      <td>0.016500</td>\n",
       "      <td>2.278799</td>\n",
       "      <td>0.600000</td>\n",
       "      <td>0.597888</td>\n",
       "      <td>0.600000</td>\n",
       "      <td>0.598929</td>\n",
       "    </tr>\n",
       "    <tr>\n",
       "      <td>27</td>\n",
       "      <td>1.098300</td>\n",
       "      <td>2.588318</td>\n",
       "      <td>0.592157</td>\n",
       "      <td>0.529507</td>\n",
       "      <td>0.592157</td>\n",
       "      <td>0.515787</td>\n",
       "    </tr>\n",
       "    <tr>\n",
       "      <td>28</td>\n",
       "      <td>0.010800</td>\n",
       "      <td>2.520662</td>\n",
       "      <td>0.607843</td>\n",
       "      <td>0.584987</td>\n",
       "      <td>0.607843</td>\n",
       "      <td>0.595963</td>\n",
       "    </tr>\n",
       "    <tr>\n",
       "      <td>29</td>\n",
       "      <td>0.622300</td>\n",
       "      <td>2.633069</td>\n",
       "      <td>0.611765</td>\n",
       "      <td>0.601307</td>\n",
       "      <td>0.611765</td>\n",
       "      <td>0.605142</td>\n",
       "    </tr>\n",
       "    <tr>\n",
       "      <td>30</td>\n",
       "      <td>0.705600</td>\n",
       "      <td>2.815099</td>\n",
       "      <td>0.615686</td>\n",
       "      <td>0.576614</td>\n",
       "      <td>0.615686</td>\n",
       "      <td>0.590801</td>\n",
       "    </tr>\n",
       "    <tr>\n",
       "      <td>31</td>\n",
       "      <td>0.006600</td>\n",
       "      <td>2.651248</td>\n",
       "      <td>0.639216</td>\n",
       "      <td>0.605194</td>\n",
       "      <td>0.639216</td>\n",
       "      <td>0.620545</td>\n",
       "    </tr>\n",
       "    <tr>\n",
       "      <td>32</td>\n",
       "      <td>0.638400</td>\n",
       "      <td>2.902395</td>\n",
       "      <td>0.615686</td>\n",
       "      <td>0.587826</td>\n",
       "      <td>0.615686</td>\n",
       "      <td>0.592836</td>\n",
       "    </tr>\n",
       "    <tr>\n",
       "      <td>33</td>\n",
       "      <td>0.005200</td>\n",
       "      <td>2.814462</td>\n",
       "      <td>0.607843</td>\n",
       "      <td>0.578125</td>\n",
       "      <td>0.607843</td>\n",
       "      <td>0.582995</td>\n",
       "    </tr>\n",
       "    <tr>\n",
       "      <td>34</td>\n",
       "      <td>0.007100</td>\n",
       "      <td>2.821909</td>\n",
       "      <td>0.596078</td>\n",
       "      <td>0.553030</td>\n",
       "      <td>0.596078</td>\n",
       "      <td>0.539480</td>\n",
       "    </tr>\n",
       "    <tr>\n",
       "      <td>35</td>\n",
       "      <td>0.005800</td>\n",
       "      <td>2.598782</td>\n",
       "      <td>0.631373</td>\n",
       "      <td>0.616345</td>\n",
       "      <td>0.631373</td>\n",
       "      <td>0.622033</td>\n",
       "    </tr>\n",
       "    <tr>\n",
       "      <td>36</td>\n",
       "      <td>0.004500</td>\n",
       "      <td>2.651938</td>\n",
       "      <td>0.639216</td>\n",
       "      <td>0.627563</td>\n",
       "      <td>0.639216</td>\n",
       "      <td>0.631966</td>\n",
       "    </tr>\n",
       "    <tr>\n",
       "      <td>37</td>\n",
       "      <td>0.611100</td>\n",
       "      <td>2.711720</td>\n",
       "      <td>0.643137</td>\n",
       "      <td>0.629569</td>\n",
       "      <td>0.643137</td>\n",
       "      <td>0.633684</td>\n",
       "    </tr>\n",
       "    <tr>\n",
       "      <td>38</td>\n",
       "      <td>0.003700</td>\n",
       "      <td>2.736117</td>\n",
       "      <td>0.643137</td>\n",
       "      <td>0.629569</td>\n",
       "      <td>0.643137</td>\n",
       "      <td>0.633684</td>\n",
       "    </tr>\n",
       "    <tr>\n",
       "      <td>39</td>\n",
       "      <td>0.002800</td>\n",
       "      <td>2.897182</td>\n",
       "      <td>0.639216</td>\n",
       "      <td>0.614905</td>\n",
       "      <td>0.639216</td>\n",
       "      <td>0.614119</td>\n",
       "    </tr>\n",
       "    <tr>\n",
       "      <td>40</td>\n",
       "      <td>0.002400</td>\n",
       "      <td>2.605559</td>\n",
       "      <td>0.643137</td>\n",
       "      <td>0.626334</td>\n",
       "      <td>0.643137</td>\n",
       "      <td>0.630904</td>\n",
       "    </tr>\n",
       "    <tr>\n",
       "      <td>41</td>\n",
       "      <td>0.002500</td>\n",
       "      <td>2.784541</td>\n",
       "      <td>0.639216</td>\n",
       "      <td>0.619946</td>\n",
       "      <td>0.639216</td>\n",
       "      <td>0.624201</td>\n",
       "    </tr>\n",
       "    <tr>\n",
       "      <td>42</td>\n",
       "      <td>0.006200</td>\n",
       "      <td>2.853865</td>\n",
       "      <td>0.639216</td>\n",
       "      <td>0.619062</td>\n",
       "      <td>0.639216</td>\n",
       "      <td>0.622977</td>\n",
       "    </tr>\n",
       "    <tr>\n",
       "      <td>43</td>\n",
       "      <td>0.003300</td>\n",
       "      <td>2.872567</td>\n",
       "      <td>0.643137</td>\n",
       "      <td>0.622772</td>\n",
       "      <td>0.643137</td>\n",
       "      <td>0.626329</td>\n",
       "    </tr>\n",
       "    <tr>\n",
       "      <td>44</td>\n",
       "      <td>0.004800</td>\n",
       "      <td>2.905308</td>\n",
       "      <td>0.643137</td>\n",
       "      <td>0.622772</td>\n",
       "      <td>0.643137</td>\n",
       "      <td>0.626329</td>\n",
       "    </tr>\n",
       "    <tr>\n",
       "      <td>45</td>\n",
       "      <td>0.003000</td>\n",
       "      <td>2.929308</td>\n",
       "      <td>0.639216</td>\n",
       "      <td>0.618230</td>\n",
       "      <td>0.639216</td>\n",
       "      <td>0.621684</td>\n",
       "    </tr>\n",
       "    <tr>\n",
       "      <td>46</td>\n",
       "      <td>0.003400</td>\n",
       "      <td>2.945828</td>\n",
       "      <td>0.639216</td>\n",
       "      <td>0.618230</td>\n",
       "      <td>0.639216</td>\n",
       "      <td>0.621684</td>\n",
       "    </tr>\n",
       "    <tr>\n",
       "      <td>47</td>\n",
       "      <td>0.621100</td>\n",
       "      <td>2.951747</td>\n",
       "      <td>0.639216</td>\n",
       "      <td>0.618230</td>\n",
       "      <td>0.639216</td>\n",
       "      <td>0.621684</td>\n",
       "    </tr>\n",
       "    <tr>\n",
       "      <td>48</td>\n",
       "      <td>0.005200</td>\n",
       "      <td>3.023397</td>\n",
       "      <td>0.643137</td>\n",
       "      <td>0.621073</td>\n",
       "      <td>0.643137</td>\n",
       "      <td>0.620406</td>\n",
       "    </tr>\n",
       "    <tr>\n",
       "      <td>49</td>\n",
       "      <td>0.003400</td>\n",
       "      <td>3.028183</td>\n",
       "      <td>0.643137</td>\n",
       "      <td>0.621073</td>\n",
       "      <td>0.643137</td>\n",
       "      <td>0.620406</td>\n",
       "    </tr>\n",
       "    <tr>\n",
       "      <td>50</td>\n",
       "      <td>0.003600</td>\n",
       "      <td>3.033981</td>\n",
       "      <td>0.643137</td>\n",
       "      <td>0.621073</td>\n",
       "      <td>0.643137</td>\n",
       "      <td>0.620406</td>\n",
       "    </tr>\n",
       "  </tbody>\n",
       "</table><p>"
      ],
      "text/plain": [
       "<IPython.core.display.HTML object>"
      ]
     },
     "metadata": {},
     "output_type": "display_data"
    },
    {
     "data": {
      "text/html": [],
      "text/plain": [
       "<IPython.core.display.HTML object>"
      ]
     },
     "metadata": {},
     "output_type": "display_data"
    },
    {
     "data": {
      "text/html": [],
      "text/plain": [
       "<IPython.core.display.HTML object>"
      ]
     },
     "metadata": {},
     "output_type": "display_data"
    },
    {
     "data": {
      "text/html": [],
      "text/plain": [
       "<IPython.core.display.HTML object>"
      ]
     },
     "metadata": {},
     "output_type": "display_data"
    },
    {
     "data": {
      "text/html": [],
      "text/plain": [
       "<IPython.core.display.HTML object>"
      ]
     },
     "metadata": {},
     "output_type": "display_data"
    },
    {
     "data": {
      "text/html": [],
      "text/plain": [
       "<IPython.core.display.HTML object>"
      ]
     },
     "metadata": {},
     "output_type": "display_data"
    },
    {
     "data": {
      "text/html": [],
      "text/plain": [
       "<IPython.core.display.HTML object>"
      ]
     },
     "metadata": {},
     "output_type": "display_data"
    },
    {
     "data": {
      "text/html": [],
      "text/plain": [
       "<IPython.core.display.HTML object>"
      ]
     },
     "metadata": {},
     "output_type": "display_data"
    },
    {
     "data": {
      "text/html": [],
      "text/plain": [
       "<IPython.core.display.HTML object>"
      ]
     },
     "metadata": {},
     "output_type": "display_data"
    },
    {
     "data": {
      "text/html": [],
      "text/plain": [
       "<IPython.core.display.HTML object>"
      ]
     },
     "metadata": {},
     "output_type": "display_data"
    },
    {
     "data": {
      "text/html": [],
      "text/plain": [
       "<IPython.core.display.HTML object>"
      ]
     },
     "metadata": {},
     "output_type": "display_data"
    },
    {
     "data": {
      "text/html": [],
      "text/plain": [
       "<IPython.core.display.HTML object>"
      ]
     },
     "metadata": {},
     "output_type": "display_data"
    },
    {
     "data": {
      "text/html": [],
      "text/plain": [
       "<IPython.core.display.HTML object>"
      ]
     },
     "metadata": {},
     "output_type": "display_data"
    },
    {
     "data": {
      "text/html": [],
      "text/plain": [
       "<IPython.core.display.HTML object>"
      ]
     },
     "metadata": {},
     "output_type": "display_data"
    },
    {
     "data": {
      "text/html": [],
      "text/plain": [
       "<IPython.core.display.HTML object>"
      ]
     },
     "metadata": {},
     "output_type": "display_data"
    },
    {
     "data": {
      "text/html": [],
      "text/plain": [
       "<IPython.core.display.HTML object>"
      ]
     },
     "metadata": {},
     "output_type": "display_data"
    },
    {
     "data": {
      "text/html": [],
      "text/plain": [
       "<IPython.core.display.HTML object>"
      ]
     },
     "metadata": {},
     "output_type": "display_data"
    },
    {
     "data": {
      "text/html": [],
      "text/plain": [
       "<IPython.core.display.HTML object>"
      ]
     },
     "metadata": {},
     "output_type": "display_data"
    },
    {
     "data": {
      "text/html": [],
      "text/plain": [
       "<IPython.core.display.HTML object>"
      ]
     },
     "metadata": {},
     "output_type": "display_data"
    },
    {
     "data": {
      "text/html": [],
      "text/plain": [
       "<IPython.core.display.HTML object>"
      ]
     },
     "metadata": {},
     "output_type": "display_data"
    },
    {
     "data": {
      "text/html": [],
      "text/plain": [
       "<IPython.core.display.HTML object>"
      ]
     },
     "metadata": {},
     "output_type": "display_data"
    },
    {
     "data": {
      "text/html": [],
      "text/plain": [
       "<IPython.core.display.HTML object>"
      ]
     },
     "metadata": {},
     "output_type": "display_data"
    },
    {
     "data": {
      "text/html": [],
      "text/plain": [
       "<IPython.core.display.HTML object>"
      ]
     },
     "metadata": {},
     "output_type": "display_data"
    },
    {
     "data": {
      "text/html": [],
      "text/plain": [
       "<IPython.core.display.HTML object>"
      ]
     },
     "metadata": {},
     "output_type": "display_data"
    },
    {
     "data": {
      "text/html": [],
      "text/plain": [
       "<IPython.core.display.HTML object>"
      ]
     },
     "metadata": {},
     "output_type": "display_data"
    },
    {
     "data": {
      "text/html": [],
      "text/plain": [
       "<IPython.core.display.HTML object>"
      ]
     },
     "metadata": {},
     "output_type": "display_data"
    },
    {
     "data": {
      "text/html": [],
      "text/plain": [
       "<IPython.core.display.HTML object>"
      ]
     },
     "metadata": {},
     "output_type": "display_data"
    },
    {
     "data": {
      "text/html": [],
      "text/plain": [
       "<IPython.core.display.HTML object>"
      ]
     },
     "metadata": {},
     "output_type": "display_data"
    },
    {
     "data": {
      "text/html": [],
      "text/plain": [
       "<IPython.core.display.HTML object>"
      ]
     },
     "metadata": {},
     "output_type": "display_data"
    },
    {
     "data": {
      "text/html": [],
      "text/plain": [
       "<IPython.core.display.HTML object>"
      ]
     },
     "metadata": {},
     "output_type": "display_data"
    },
    {
     "name": "stderr",
     "output_type": "stream",
     "text": [
      "C:\\Anaconda\\envs\\gpu_TA\\Lib\\site-packages\\sklearn\\metrics\\_classification.py:1565: UndefinedMetricWarning: Precision is ill-defined and being set to 0.0 in labels with no predicted samples. Use `zero_division` parameter to control this behavior.\n",
      "  _warn_prf(average, modifier, f\"{metric.capitalize()} is\", len(result))\n"
     ]
    },
    {
     "data": {
      "text/html": [],
      "text/plain": [
       "<IPython.core.display.HTML object>"
      ]
     },
     "metadata": {},
     "output_type": "display_data"
    },
    {
     "name": "stderr",
     "output_type": "stream",
     "text": [
      "C:\\Anaconda\\envs\\gpu_TA\\Lib\\site-packages\\sklearn\\metrics\\_classification.py:1565: UndefinedMetricWarning: Precision is ill-defined and being set to 0.0 in labels with no predicted samples. Use `zero_division` parameter to control this behavior.\n",
      "  _warn_prf(average, modifier, f\"{metric.capitalize()} is\", len(result))\n"
     ]
    },
    {
     "data": {
      "text/html": [],
      "text/plain": [
       "<IPython.core.display.HTML object>"
      ]
     },
     "metadata": {},
     "output_type": "display_data"
    },
    {
     "data": {
      "text/html": [],
      "text/plain": [
       "<IPython.core.display.HTML object>"
      ]
     },
     "metadata": {},
     "output_type": "display_data"
    },
    {
     "data": {
      "text/html": [],
      "text/plain": [
       "<IPython.core.display.HTML object>"
      ]
     },
     "metadata": {},
     "output_type": "display_data"
    },
    {
     "data": {
      "text/html": [],
      "text/plain": [
       "<IPython.core.display.HTML object>"
      ]
     },
     "metadata": {},
     "output_type": "display_data"
    },
    {
     "data": {
      "text/html": [],
      "text/plain": [
       "<IPython.core.display.HTML object>"
      ]
     },
     "metadata": {},
     "output_type": "display_data"
    },
    {
     "data": {
      "text/html": [],
      "text/plain": [
       "<IPython.core.display.HTML object>"
      ]
     },
     "metadata": {},
     "output_type": "display_data"
    },
    {
     "data": {
      "text/html": [],
      "text/plain": [
       "<IPython.core.display.HTML object>"
      ]
     },
     "metadata": {},
     "output_type": "display_data"
    },
    {
     "name": "stderr",
     "output_type": "stream",
     "text": [
      "C:\\Anaconda\\envs\\gpu_TA\\Lib\\site-packages\\sklearn\\metrics\\_classification.py:1565: UndefinedMetricWarning: Precision is ill-defined and being set to 0.0 in labels with no predicted samples. Use `zero_division` parameter to control this behavior.\n",
      "  _warn_prf(average, modifier, f\"{metric.capitalize()} is\", len(result))\n"
     ]
    },
    {
     "data": {
      "text/html": [],
      "text/plain": [
       "<IPython.core.display.HTML object>"
      ]
     },
     "metadata": {},
     "output_type": "display_data"
    },
    {
     "name": "stderr",
     "output_type": "stream",
     "text": [
      "C:\\Anaconda\\envs\\gpu_TA\\Lib\\site-packages\\sklearn\\metrics\\_classification.py:1565: UndefinedMetricWarning: Precision is ill-defined and being set to 0.0 in labels with no predicted samples. Use `zero_division` parameter to control this behavior.\n",
      "  _warn_prf(average, modifier, f\"{metric.capitalize()} is\", len(result))\n"
     ]
    },
    {
     "data": {
      "text/html": [],
      "text/plain": [
       "<IPython.core.display.HTML object>"
      ]
     },
     "metadata": {},
     "output_type": "display_data"
    },
    {
     "name": "stderr",
     "output_type": "stream",
     "text": [
      "C:\\Anaconda\\envs\\gpu_TA\\Lib\\site-packages\\sklearn\\metrics\\_classification.py:1565: UndefinedMetricWarning: Precision is ill-defined and being set to 0.0 in labels with no predicted samples. Use `zero_division` parameter to control this behavior.\n",
      "  _warn_prf(average, modifier, f\"{metric.capitalize()} is\", len(result))\n"
     ]
    },
    {
     "data": {
      "text/html": [],
      "text/plain": [
       "<IPython.core.display.HTML object>"
      ]
     },
     "metadata": {},
     "output_type": "display_data"
    },
    {
     "data": {
      "text/html": [],
      "text/plain": [
       "<IPython.core.display.HTML object>"
      ]
     },
     "metadata": {},
     "output_type": "display_data"
    },
    {
     "name": "stderr",
     "output_type": "stream",
     "text": [
      "C:\\Anaconda\\envs\\gpu_TA\\Lib\\site-packages\\sklearn\\metrics\\_classification.py:1565: UndefinedMetricWarning: Precision is ill-defined and being set to 0.0 in labels with no predicted samples. Use `zero_division` parameter to control this behavior.\n",
      "  _warn_prf(average, modifier, f\"{metric.capitalize()} is\", len(result))\n",
      "C:\\Anaconda\\envs\\gpu_TA\\Lib\\site-packages\\sklearn\\metrics\\_classification.py:1565: UndefinedMetricWarning: Precision is ill-defined and being set to 0.0 in labels with no predicted samples. Use `zero_division` parameter to control this behavior.\n",
      "  _warn_prf(average, modifier, f\"{metric.capitalize()} is\", len(result))\n"
     ]
    },
    {
     "data": {
      "text/html": [],
      "text/plain": [
       "<IPython.core.display.HTML object>"
      ]
     },
     "metadata": {},
     "output_type": "display_data"
    },
    {
     "name": "stderr",
     "output_type": "stream",
     "text": [
      "C:\\Anaconda\\envs\\gpu_TA\\Lib\\site-packages\\sklearn\\metrics\\_classification.py:1565: UndefinedMetricWarning: Precision is ill-defined and being set to 0.0 in labels with no predicted samples. Use `zero_division` parameter to control this behavior.\n",
      "  _warn_prf(average, modifier, f\"{metric.capitalize()} is\", len(result))\n"
     ]
    },
    {
     "data": {
      "text/html": [],
      "text/plain": [
       "<IPython.core.display.HTML object>"
      ]
     },
     "metadata": {},
     "output_type": "display_data"
    },
    {
     "name": "stderr",
     "output_type": "stream",
     "text": [
      "C:\\Anaconda\\envs\\gpu_TA\\Lib\\site-packages\\sklearn\\metrics\\_classification.py:1565: UndefinedMetricWarning: Precision is ill-defined and being set to 0.0 in labels with no predicted samples. Use `zero_division` parameter to control this behavior.\n",
      "  _warn_prf(average, modifier, f\"{metric.capitalize()} is\", len(result))\n",
      "C:\\Anaconda\\envs\\gpu_TA\\Lib\\site-packages\\sklearn\\metrics\\_classification.py:1565: UndefinedMetricWarning: Precision is ill-defined and being set to 0.0 in labels with no predicted samples. Use `zero_division` parameter to control this behavior.\n",
      "  _warn_prf(average, modifier, f\"{metric.capitalize()} is\", len(result))\n"
     ]
    },
    {
     "data": {
      "text/html": [],
      "text/plain": [
       "<IPython.core.display.HTML object>"
      ]
     },
     "metadata": {},
     "output_type": "display_data"
    },
    {
     "name": "stderr",
     "output_type": "stream",
     "text": [
      "C:\\Anaconda\\envs\\gpu_TA\\Lib\\site-packages\\sklearn\\metrics\\_classification.py:1565: UndefinedMetricWarning: Precision is ill-defined and being set to 0.0 in labels with no predicted samples. Use `zero_division` parameter to control this behavior.\n",
      "  _warn_prf(average, modifier, f\"{metric.capitalize()} is\", len(result))\n"
     ]
    },
    {
     "data": {
      "text/html": [],
      "text/plain": [
       "<IPython.core.display.HTML object>"
      ]
     },
     "metadata": {},
     "output_type": "display_data"
    },
    {
     "name": "stderr",
     "output_type": "stream",
     "text": [
      "C:\\Anaconda\\envs\\gpu_TA\\Lib\\site-packages\\sklearn\\metrics\\_classification.py:1565: UndefinedMetricWarning: Precision is ill-defined and being set to 0.0 in labels with no predicted samples. Use `zero_division` parameter to control this behavior.\n",
      "  _warn_prf(average, modifier, f\"{metric.capitalize()} is\", len(result))\n",
      "C:\\Anaconda\\envs\\gpu_TA\\Lib\\site-packages\\sklearn\\metrics\\_classification.py:1565: UndefinedMetricWarning: Precision is ill-defined and being set to 0.0 in labels with no predicted samples. Use `zero_division` parameter to control this behavior.\n",
      "  _warn_prf(average, modifier, f\"{metric.capitalize()} is\", len(result))\n"
     ]
    },
    {
     "data": {
      "text/html": [],
      "text/plain": [
       "<IPython.core.display.HTML object>"
      ]
     },
     "metadata": {},
     "output_type": "display_data"
    },
    {
     "name": "stderr",
     "output_type": "stream",
     "text": [
      "C:\\Anaconda\\envs\\gpu_TA\\Lib\\site-packages\\sklearn\\metrics\\_classification.py:1565: UndefinedMetricWarning: Precision is ill-defined and being set to 0.0 in labels with no predicted samples. Use `zero_division` parameter to control this behavior.\n",
      "  _warn_prf(average, modifier, f\"{metric.capitalize()} is\", len(result))\n"
     ]
    },
    {
     "data": {
      "text/html": [],
      "text/plain": [
       "<IPython.core.display.HTML object>"
      ]
     },
     "metadata": {},
     "output_type": "display_data"
    },
    {
     "name": "stderr",
     "output_type": "stream",
     "text": [
      "C:\\Anaconda\\envs\\gpu_TA\\Lib\\site-packages\\sklearn\\metrics\\_classification.py:1565: UndefinedMetricWarning: Precision is ill-defined and being set to 0.0 in labels with no predicted samples. Use `zero_division` parameter to control this behavior.\n",
      "  _warn_prf(average, modifier, f\"{metric.capitalize()} is\", len(result))\n",
      "C:\\Anaconda\\envs\\gpu_TA\\Lib\\site-packages\\sklearn\\metrics\\_classification.py:1565: UndefinedMetricWarning: Precision is ill-defined and being set to 0.0 in labels with no predicted samples. Use `zero_division` parameter to control this behavior.\n",
      "  _warn_prf(average, modifier, f\"{metric.capitalize()} is\", len(result))\n"
     ]
    },
    {
     "data": {
      "text/html": [],
      "text/plain": [
       "<IPython.core.display.HTML object>"
      ]
     },
     "metadata": {},
     "output_type": "display_data"
    },
    {
     "name": "stderr",
     "output_type": "stream",
     "text": [
      "C:\\Anaconda\\envs\\gpu_TA\\Lib\\site-packages\\sklearn\\metrics\\_classification.py:1565: UndefinedMetricWarning: Precision is ill-defined and being set to 0.0 in labels with no predicted samples. Use `zero_division` parameter to control this behavior.\n",
      "  _warn_prf(average, modifier, f\"{metric.capitalize()} is\", len(result))\n"
     ]
    },
    {
     "data": {
      "text/html": [],
      "text/plain": [
       "<IPython.core.display.HTML object>"
      ]
     },
     "metadata": {},
     "output_type": "display_data"
    },
    {
     "name": "stderr",
     "output_type": "stream",
     "text": [
      "C:\\Anaconda\\envs\\gpu_TA\\Lib\\site-packages\\sklearn\\metrics\\_classification.py:1565: UndefinedMetricWarning: Precision is ill-defined and being set to 0.0 in labels with no predicted samples. Use `zero_division` parameter to control this behavior.\n",
      "  _warn_prf(average, modifier, f\"{metric.capitalize()} is\", len(result))\n",
      "C:\\Anaconda\\envs\\gpu_TA\\Lib\\site-packages\\sklearn\\metrics\\_classification.py:1565: UndefinedMetricWarning: Precision is ill-defined and being set to 0.0 in labels with no predicted samples. Use `zero_division` parameter to control this behavior.\n",
      "  _warn_prf(average, modifier, f\"{metric.capitalize()} is\", len(result))\n"
     ]
    },
    {
     "data": {
      "text/html": [],
      "text/plain": [
       "<IPython.core.display.HTML object>"
      ]
     },
     "metadata": {},
     "output_type": "display_data"
    },
    {
     "name": "stderr",
     "output_type": "stream",
     "text": [
      "C:\\Anaconda\\envs\\gpu_TA\\Lib\\site-packages\\sklearn\\metrics\\_classification.py:1565: UndefinedMetricWarning: Precision is ill-defined and being set to 0.0 in labels with no predicted samples. Use `zero_division` parameter to control this behavior.\n",
      "  _warn_prf(average, modifier, f\"{metric.capitalize()} is\", len(result))\n"
     ]
    },
    {
     "data": {
      "text/html": [],
      "text/plain": [
       "<IPython.core.display.HTML object>"
      ]
     },
     "metadata": {},
     "output_type": "display_data"
    },
    {
     "name": "stderr",
     "output_type": "stream",
     "text": [
      "C:\\Anaconda\\envs\\gpu_TA\\Lib\\site-packages\\sklearn\\metrics\\_classification.py:1565: UndefinedMetricWarning: Precision is ill-defined and being set to 0.0 in labels with no predicted samples. Use `zero_division` parameter to control this behavior.\n",
      "  _warn_prf(average, modifier, f\"{metric.capitalize()} is\", len(result))\n",
      "C:\\Anaconda\\envs\\gpu_TA\\Lib\\site-packages\\sklearn\\metrics\\_classification.py:1565: UndefinedMetricWarning: Precision is ill-defined and being set to 0.0 in labels with no predicted samples. Use `zero_division` parameter to control this behavior.\n",
      "  _warn_prf(average, modifier, f\"{metric.capitalize()} is\", len(result))\n"
     ]
    },
    {
     "data": {
      "text/html": [],
      "text/plain": [
       "<IPython.core.display.HTML object>"
      ]
     },
     "metadata": {},
     "output_type": "display_data"
    },
    {
     "name": "stderr",
     "output_type": "stream",
     "text": [
      "C:\\Anaconda\\envs\\gpu_TA\\Lib\\site-packages\\sklearn\\metrics\\_classification.py:1565: UndefinedMetricWarning: Precision is ill-defined and being set to 0.0 in labels with no predicted samples. Use `zero_division` parameter to control this behavior.\n",
      "  _warn_prf(average, modifier, f\"{metric.capitalize()} is\", len(result))\n"
     ]
    },
    {
     "data": {
      "text/html": [],
      "text/plain": [
       "<IPython.core.display.HTML object>"
      ]
     },
     "metadata": {},
     "output_type": "display_data"
    },
    {
     "name": "stderr",
     "output_type": "stream",
     "text": [
      "C:\\Anaconda\\envs\\gpu_TA\\Lib\\site-packages\\sklearn\\metrics\\_classification.py:1565: UndefinedMetricWarning: Precision is ill-defined and being set to 0.0 in labels with no predicted samples. Use `zero_division` parameter to control this behavior.\n",
      "  _warn_prf(average, modifier, f\"{metric.capitalize()} is\", len(result))\n",
      "C:\\Anaconda\\envs\\gpu_TA\\Lib\\site-packages\\sklearn\\metrics\\_classification.py:1565: UndefinedMetricWarning: Precision is ill-defined and being set to 0.0 in labels with no predicted samples. Use `zero_division` parameter to control this behavior.\n",
      "  _warn_prf(average, modifier, f\"{metric.capitalize()} is\", len(result))\n"
     ]
    },
    {
     "data": {
      "text/html": [],
      "text/plain": [
       "<IPython.core.display.HTML object>"
      ]
     },
     "metadata": {},
     "output_type": "display_data"
    },
    {
     "name": "stderr",
     "output_type": "stream",
     "text": [
      "C:\\Anaconda\\envs\\gpu_TA\\Lib\\site-packages\\sklearn\\metrics\\_classification.py:1565: UndefinedMetricWarning: Precision is ill-defined and being set to 0.0 in labels with no predicted samples. Use `zero_division` parameter to control this behavior.\n",
      "  _warn_prf(average, modifier, f\"{metric.capitalize()} is\", len(result))\n"
     ]
    },
    {
     "data": {
      "text/html": [],
      "text/plain": [
       "<IPython.core.display.HTML object>"
      ]
     },
     "metadata": {},
     "output_type": "display_data"
    },
    {
     "name": "stderr",
     "output_type": "stream",
     "text": [
      "C:\\Anaconda\\envs\\gpu_TA\\Lib\\site-packages\\sklearn\\metrics\\_classification.py:1565: UndefinedMetricWarning: Precision is ill-defined and being set to 0.0 in labels with no predicted samples. Use `zero_division` parameter to control this behavior.\n",
      "  _warn_prf(average, modifier, f\"{metric.capitalize()} is\", len(result))\n",
      "C:\\Anaconda\\envs\\gpu_TA\\Lib\\site-packages\\sklearn\\metrics\\_classification.py:1565: UndefinedMetricWarning: Precision is ill-defined and being set to 0.0 in labels with no predicted samples. Use `zero_division` parameter to control this behavior.\n",
      "  _warn_prf(average, modifier, f\"{metric.capitalize()} is\", len(result))\n"
     ]
    },
    {
     "data": {
      "text/html": [],
      "text/plain": [
       "<IPython.core.display.HTML object>"
      ]
     },
     "metadata": {},
     "output_type": "display_data"
    },
    {
     "name": "stderr",
     "output_type": "stream",
     "text": [
      "C:\\Anaconda\\envs\\gpu_TA\\Lib\\site-packages\\sklearn\\metrics\\_classification.py:1565: UndefinedMetricWarning: Precision is ill-defined and being set to 0.0 in labels with no predicted samples. Use `zero_division` parameter to control this behavior.\n",
      "  _warn_prf(average, modifier, f\"{metric.capitalize()} is\", len(result))\n"
     ]
    },
    {
     "data": {
      "text/html": [],
      "text/plain": [
       "<IPython.core.display.HTML object>"
      ]
     },
     "metadata": {},
     "output_type": "display_data"
    },
    {
     "name": "stderr",
     "output_type": "stream",
     "text": [
      "C:\\Anaconda\\envs\\gpu_TA\\Lib\\site-packages\\sklearn\\metrics\\_classification.py:1565: UndefinedMetricWarning: Precision is ill-defined and being set to 0.0 in labels with no predicted samples. Use `zero_division` parameter to control this behavior.\n",
      "  _warn_prf(average, modifier, f\"{metric.capitalize()} is\", len(result))\n",
      "C:\\Anaconda\\envs\\gpu_TA\\Lib\\site-packages\\sklearn\\metrics\\_classification.py:1565: UndefinedMetricWarning: Precision is ill-defined and being set to 0.0 in labels with no predicted samples. Use `zero_division` parameter to control this behavior.\n",
      "  _warn_prf(average, modifier, f\"{metric.capitalize()} is\", len(result))\n"
     ]
    },
    {
     "data": {
      "text/html": [],
      "text/plain": [
       "<IPython.core.display.HTML object>"
      ]
     },
     "metadata": {},
     "output_type": "display_data"
    },
    {
     "name": "stderr",
     "output_type": "stream",
     "text": [
      "C:\\Anaconda\\envs\\gpu_TA\\Lib\\site-packages\\sklearn\\metrics\\_classification.py:1565: UndefinedMetricWarning: Precision is ill-defined and being set to 0.0 in labels with no predicted samples. Use `zero_division` parameter to control this behavior.\n",
      "  _warn_prf(average, modifier, f\"{metric.capitalize()} is\", len(result))\n"
     ]
    },
    {
     "data": {
      "text/html": [],
      "text/plain": [
       "<IPython.core.display.HTML object>"
      ]
     },
     "metadata": {},
     "output_type": "display_data"
    },
    {
     "name": "stderr",
     "output_type": "stream",
     "text": [
      "C:\\Anaconda\\envs\\gpu_TA\\Lib\\site-packages\\sklearn\\metrics\\_classification.py:1565: UndefinedMetricWarning: Precision is ill-defined and being set to 0.0 in labels with no predicted samples. Use `zero_division` parameter to control this behavior.\n",
      "  _warn_prf(average, modifier, f\"{metric.capitalize()} is\", len(result))\n",
      "C:\\Anaconda\\envs\\gpu_TA\\Lib\\site-packages\\sklearn\\metrics\\_classification.py:1565: UndefinedMetricWarning: Precision is ill-defined and being set to 0.0 in labels with no predicted samples. Use `zero_division` parameter to control this behavior.\n",
      "  _warn_prf(average, modifier, f\"{metric.capitalize()} is\", len(result))\n"
     ]
    },
    {
     "data": {
      "text/html": [],
      "text/plain": [
       "<IPython.core.display.HTML object>"
      ]
     },
     "metadata": {},
     "output_type": "display_data"
    },
    {
     "name": "stderr",
     "output_type": "stream",
     "text": [
      "C:\\Anaconda\\envs\\gpu_TA\\Lib\\site-packages\\sklearn\\metrics\\_classification.py:1565: UndefinedMetricWarning: Precision is ill-defined and being set to 0.0 in labels with no predicted samples. Use `zero_division` parameter to control this behavior.\n",
      "  _warn_prf(average, modifier, f\"{metric.capitalize()} is\", len(result))\n"
     ]
    },
    {
     "data": {
      "text/html": [],
      "text/plain": [
       "<IPython.core.display.HTML object>"
      ]
     },
     "metadata": {},
     "output_type": "display_data"
    },
    {
     "name": "stderr",
     "output_type": "stream",
     "text": [
      "C:\\Anaconda\\envs\\gpu_TA\\Lib\\site-packages\\sklearn\\metrics\\_classification.py:1565: UndefinedMetricWarning: Precision is ill-defined and being set to 0.0 in labels with no predicted samples. Use `zero_division` parameter to control this behavior.\n",
      "  _warn_prf(average, modifier, f\"{metric.capitalize()} is\", len(result))\n",
      "C:\\Anaconda\\envs\\gpu_TA\\Lib\\site-packages\\sklearn\\metrics\\_classification.py:1565: UndefinedMetricWarning: Precision is ill-defined and being set to 0.0 in labels with no predicted samples. Use `zero_division` parameter to control this behavior.\n",
      "  _warn_prf(average, modifier, f\"{metric.capitalize()} is\", len(result))\n"
     ]
    },
    {
     "data": {
      "text/html": [],
      "text/plain": [
       "<IPython.core.display.HTML object>"
      ]
     },
     "metadata": {},
     "output_type": "display_data"
    },
    {
     "name": "stderr",
     "output_type": "stream",
     "text": [
      "C:\\Anaconda\\envs\\gpu_TA\\Lib\\site-packages\\sklearn\\metrics\\_classification.py:1565: UndefinedMetricWarning: Precision is ill-defined and being set to 0.0 in labels with no predicted samples. Use `zero_division` parameter to control this behavior.\n",
      "  _warn_prf(average, modifier, f\"{metric.capitalize()} is\", len(result))\n"
     ]
    },
    {
     "data": {
      "text/html": [],
      "text/plain": [
       "<IPython.core.display.HTML object>"
      ]
     },
     "metadata": {},
     "output_type": "display_data"
    },
    {
     "name": "stderr",
     "output_type": "stream",
     "text": [
      "C:\\Anaconda\\envs\\gpu_TA\\Lib\\site-packages\\sklearn\\metrics\\_classification.py:1565: UndefinedMetricWarning: Precision is ill-defined and being set to 0.0 in labels with no predicted samples. Use `zero_division` parameter to control this behavior.\n",
      "  _warn_prf(average, modifier, f\"{metric.capitalize()} is\", len(result))\n",
      "C:\\Anaconda\\envs\\gpu_TA\\Lib\\site-packages\\sklearn\\metrics\\_classification.py:1565: UndefinedMetricWarning: Precision is ill-defined and being set to 0.0 in labels with no predicted samples. Use `zero_division` parameter to control this behavior.\n",
      "  _warn_prf(average, modifier, f\"{metric.capitalize()} is\", len(result))\n"
     ]
    },
    {
     "data": {
      "text/html": [],
      "text/plain": [
       "<IPython.core.display.HTML object>"
      ]
     },
     "metadata": {},
     "output_type": "display_data"
    },
    {
     "name": "stderr",
     "output_type": "stream",
     "text": [
      "C:\\Anaconda\\envs\\gpu_TA\\Lib\\site-packages\\sklearn\\metrics\\_classification.py:1565: UndefinedMetricWarning: Precision is ill-defined and being set to 0.0 in labels with no predicted samples. Use `zero_division` parameter to control this behavior.\n",
      "  _warn_prf(average, modifier, f\"{metric.capitalize()} is\", len(result))\n"
     ]
    },
    {
     "data": {
      "text/html": [],
      "text/plain": [
       "<IPython.core.display.HTML object>"
      ]
     },
     "metadata": {},
     "output_type": "display_data"
    },
    {
     "name": "stderr",
     "output_type": "stream",
     "text": [
      "C:\\Anaconda\\envs\\gpu_TA\\Lib\\site-packages\\sklearn\\metrics\\_classification.py:1565: UndefinedMetricWarning: Precision is ill-defined and being set to 0.0 in labels with no predicted samples. Use `zero_division` parameter to control this behavior.\n",
      "  _warn_prf(average, modifier, f\"{metric.capitalize()} is\", len(result))\n",
      "C:\\Anaconda\\envs\\gpu_TA\\Lib\\site-packages\\sklearn\\metrics\\_classification.py:1565: UndefinedMetricWarning: Precision is ill-defined and being set to 0.0 in labels with no predicted samples. Use `zero_division` parameter to control this behavior.\n",
      "  _warn_prf(average, modifier, f\"{metric.capitalize()} is\", len(result))\n"
     ]
    },
    {
     "data": {
      "text/html": [],
      "text/plain": [
       "<IPython.core.display.HTML object>"
      ]
     },
     "metadata": {},
     "output_type": "display_data"
    },
    {
     "name": "stderr",
     "output_type": "stream",
     "text": [
      "C:\\Anaconda\\envs\\gpu_TA\\Lib\\site-packages\\sklearn\\metrics\\_classification.py:1565: UndefinedMetricWarning: Precision is ill-defined and being set to 0.0 in labels with no predicted samples. Use `zero_division` parameter to control this behavior.\n",
      "  _warn_prf(average, modifier, f\"{metric.capitalize()} is\", len(result))\n"
     ]
    },
    {
     "data": {
      "text/html": [],
      "text/plain": [
       "<IPython.core.display.HTML object>"
      ]
     },
     "metadata": {},
     "output_type": "display_data"
    },
    {
     "name": "stderr",
     "output_type": "stream",
     "text": [
      "C:\\Anaconda\\envs\\gpu_TA\\Lib\\site-packages\\sklearn\\metrics\\_classification.py:1565: UndefinedMetricWarning: Precision is ill-defined and being set to 0.0 in labels with no predicted samples. Use `zero_division` parameter to control this behavior.\n",
      "  _warn_prf(average, modifier, f\"{metric.capitalize()} is\", len(result))\n",
      "C:\\Anaconda\\envs\\gpu_TA\\Lib\\site-packages\\sklearn\\metrics\\_classification.py:1565: UndefinedMetricWarning: Precision is ill-defined and being set to 0.0 in labels with no predicted samples. Use `zero_division` parameter to control this behavior.\n",
      "  _warn_prf(average, modifier, f\"{metric.capitalize()} is\", len(result))\n"
     ]
    },
    {
     "data": {
      "text/html": [],
      "text/plain": [
       "<IPython.core.display.HTML object>"
      ]
     },
     "metadata": {},
     "output_type": "display_data"
    },
    {
     "name": "stderr",
     "output_type": "stream",
     "text": [
      "C:\\Anaconda\\envs\\gpu_TA\\Lib\\site-packages\\sklearn\\metrics\\_classification.py:1565: UndefinedMetricWarning: Precision is ill-defined and being set to 0.0 in labels with no predicted samples. Use `zero_division` parameter to control this behavior.\n",
      "  _warn_prf(average, modifier, f\"{metric.capitalize()} is\", len(result))\n"
     ]
    },
    {
     "data": {
      "text/html": [],
      "text/plain": [
       "<IPython.core.display.HTML object>"
      ]
     },
     "metadata": {},
     "output_type": "display_data"
    },
    {
     "name": "stderr",
     "output_type": "stream",
     "text": [
      "C:\\Anaconda\\envs\\gpu_TA\\Lib\\site-packages\\sklearn\\metrics\\_classification.py:1565: UndefinedMetricWarning: Precision is ill-defined and being set to 0.0 in labels with no predicted samples. Use `zero_division` parameter to control this behavior.\n",
      "  _warn_prf(average, modifier, f\"{metric.capitalize()} is\", len(result))\n",
      "C:\\Anaconda\\envs\\gpu_TA\\Lib\\site-packages\\sklearn\\metrics\\_classification.py:1565: UndefinedMetricWarning: Precision is ill-defined and being set to 0.0 in labels with no predicted samples. Use `zero_division` parameter to control this behavior.\n",
      "  _warn_prf(average, modifier, f\"{metric.capitalize()} is\", len(result))\n"
     ]
    },
    {
     "data": {
      "text/html": [],
      "text/plain": [
       "<IPython.core.display.HTML object>"
      ]
     },
     "metadata": {},
     "output_type": "display_data"
    },
    {
     "name": "stderr",
     "output_type": "stream",
     "text": [
      "C:\\Anaconda\\envs\\gpu_TA\\Lib\\site-packages\\sklearn\\metrics\\_classification.py:1565: UndefinedMetricWarning: Precision is ill-defined and being set to 0.0 in labels with no predicted samples. Use `zero_division` parameter to control this behavior.\n",
      "  _warn_prf(average, modifier, f\"{metric.capitalize()} is\", len(result))\n"
     ]
    },
    {
     "data": {
      "text/html": [],
      "text/plain": [
       "<IPython.core.display.HTML object>"
      ]
     },
     "metadata": {},
     "output_type": "display_data"
    },
    {
     "name": "stderr",
     "output_type": "stream",
     "text": [
      "C:\\Anaconda\\envs\\gpu_TA\\Lib\\site-packages\\sklearn\\metrics\\_classification.py:1565: UndefinedMetricWarning: Precision is ill-defined and being set to 0.0 in labels with no predicted samples. Use `zero_division` parameter to control this behavior.\n",
      "  _warn_prf(average, modifier, f\"{metric.capitalize()} is\", len(result))\n",
      "C:\\Anaconda\\envs\\gpu_TA\\Lib\\site-packages\\sklearn\\metrics\\_classification.py:1565: UndefinedMetricWarning: Precision is ill-defined and being set to 0.0 in labels with no predicted samples. Use `zero_division` parameter to control this behavior.\n",
      "  _warn_prf(average, modifier, f\"{metric.capitalize()} is\", len(result))\n"
     ]
    },
    {
     "data": {
      "text/html": [],
      "text/plain": [
       "<IPython.core.display.HTML object>"
      ]
     },
     "metadata": {},
     "output_type": "display_data"
    },
    {
     "name": "stderr",
     "output_type": "stream",
     "text": [
      "C:\\Anaconda\\envs\\gpu_TA\\Lib\\site-packages\\sklearn\\metrics\\_classification.py:1565: UndefinedMetricWarning: Precision is ill-defined and being set to 0.0 in labels with no predicted samples. Use `zero_division` parameter to control this behavior.\n",
      "  _warn_prf(average, modifier, f\"{metric.capitalize()} is\", len(result))\n"
     ]
    },
    {
     "data": {
      "text/html": [],
      "text/plain": [
       "<IPython.core.display.HTML object>"
      ]
     },
     "metadata": {},
     "output_type": "display_data"
    },
    {
     "name": "stderr",
     "output_type": "stream",
     "text": [
      "C:\\Anaconda\\envs\\gpu_TA\\Lib\\site-packages\\sklearn\\metrics\\_classification.py:1565: UndefinedMetricWarning: Precision is ill-defined and being set to 0.0 in labels with no predicted samples. Use `zero_division` parameter to control this behavior.\n",
      "  _warn_prf(average, modifier, f\"{metric.capitalize()} is\", len(result))\n",
      "C:\\Anaconda\\envs\\gpu_TA\\Lib\\site-packages\\sklearn\\metrics\\_classification.py:1565: UndefinedMetricWarning: Precision is ill-defined and being set to 0.0 in labels with no predicted samples. Use `zero_division` parameter to control this behavior.\n",
      "  _warn_prf(average, modifier, f\"{metric.capitalize()} is\", len(result))\n"
     ]
    },
    {
     "data": {
      "text/html": [],
      "text/plain": [
       "<IPython.core.display.HTML object>"
      ]
     },
     "metadata": {},
     "output_type": "display_data"
    },
    {
     "name": "stderr",
     "output_type": "stream",
     "text": [
      "C:\\Anaconda\\envs\\gpu_TA\\Lib\\site-packages\\sklearn\\metrics\\_classification.py:1565: UndefinedMetricWarning: Precision is ill-defined and being set to 0.0 in labels with no predicted samples. Use `zero_division` parameter to control this behavior.\n",
      "  _warn_prf(average, modifier, f\"{metric.capitalize()} is\", len(result))\n"
     ]
    },
    {
     "data": {
      "text/html": [],
      "text/plain": [
       "<IPython.core.display.HTML object>"
      ]
     },
     "metadata": {},
     "output_type": "display_data"
    },
    {
     "name": "stderr",
     "output_type": "stream",
     "text": [
      "C:\\Anaconda\\envs\\gpu_TA\\Lib\\site-packages\\sklearn\\metrics\\_classification.py:1565: UndefinedMetricWarning: Precision is ill-defined and being set to 0.0 in labels with no predicted samples. Use `zero_division` parameter to control this behavior.\n",
      "  _warn_prf(average, modifier, f\"{metric.capitalize()} is\", len(result))\n"
     ]
    },
    {
     "data": {
      "text/html": [],
      "text/plain": [
       "<IPython.core.display.HTML object>"
      ]
     },
     "metadata": {},
     "output_type": "display_data"
    },
    {
     "name": "stderr",
     "output_type": "stream",
     "text": [
      "C:\\Anaconda\\envs\\gpu_TA\\Lib\\site-packages\\sklearn\\metrics\\_classification.py:1565: UndefinedMetricWarning: Precision is ill-defined and being set to 0.0 in labels with no predicted samples. Use `zero_division` parameter to control this behavior.\n",
      "  _warn_prf(average, modifier, f\"{metric.capitalize()} is\", len(result))\n"
     ]
    },
    {
     "data": {
      "text/html": [],
      "text/plain": [
       "<IPython.core.display.HTML object>"
      ]
     },
     "metadata": {},
     "output_type": "display_data"
    },
    {
     "data": {
      "text/html": [],
      "text/plain": [
       "<IPython.core.display.HTML object>"
      ]
     },
     "metadata": {},
     "output_type": "display_data"
    },
    {
     "data": {
      "text/html": [],
      "text/plain": [
       "<IPython.core.display.HTML object>"
      ]
     },
     "metadata": {},
     "output_type": "display_data"
    },
    {
     "data": {
      "text/html": [],
      "text/plain": [
       "<IPython.core.display.HTML object>"
      ]
     },
     "metadata": {},
     "output_type": "display_data"
    },
    {
     "data": {
      "text/html": [],
      "text/plain": [
       "<IPython.core.display.HTML object>"
      ]
     },
     "metadata": {},
     "output_type": "display_data"
    },
    {
     "data": {
      "text/html": [],
      "text/plain": [
       "<IPython.core.display.HTML object>"
      ]
     },
     "metadata": {},
     "output_type": "display_data"
    },
    {
     "data": {
      "text/html": [],
      "text/plain": [
       "<IPython.core.display.HTML object>"
      ]
     },
     "metadata": {},
     "output_type": "display_data"
    },
    {
     "data": {
      "text/html": [],
      "text/plain": [
       "<IPython.core.display.HTML object>"
      ]
     },
     "metadata": {},
     "output_type": "display_data"
    },
    {
     "data": {
      "text/html": [],
      "text/plain": [
       "<IPython.core.display.HTML object>"
      ]
     },
     "metadata": {},
     "output_type": "display_data"
    },
    {
     "data": {
      "text/html": [],
      "text/plain": [
       "<IPython.core.display.HTML object>"
      ]
     },
     "metadata": {},
     "output_type": "display_data"
    },
    {
     "data": {
      "text/html": [],
      "text/plain": [
       "<IPython.core.display.HTML object>"
      ]
     },
     "metadata": {},
     "output_type": "display_data"
    },
    {
     "data": {
      "text/html": [],
      "text/plain": [
       "<IPython.core.display.HTML object>"
      ]
     },
     "metadata": {},
     "output_type": "display_data"
    },
    {
     "data": {
      "text/html": [],
      "text/plain": [
       "<IPython.core.display.HTML object>"
      ]
     },
     "metadata": {},
     "output_type": "display_data"
    },
    {
     "data": {
      "text/html": [],
      "text/plain": [
       "<IPython.core.display.HTML object>"
      ]
     },
     "metadata": {},
     "output_type": "display_data"
    },
    {
     "data": {
      "text/html": [],
      "text/plain": [
       "<IPython.core.display.HTML object>"
      ]
     },
     "metadata": {},
     "output_type": "display_data"
    },
    {
     "data": {
      "text/html": [],
      "text/plain": [
       "<IPython.core.display.HTML object>"
      ]
     },
     "metadata": {},
     "output_type": "display_data"
    },
    {
     "data": {
      "text/html": [],
      "text/plain": [
       "<IPython.core.display.HTML object>"
      ]
     },
     "metadata": {},
     "output_type": "display_data"
    },
    {
     "data": {
      "text/html": [],
      "text/plain": [
       "<IPython.core.display.HTML object>"
      ]
     },
     "metadata": {},
     "output_type": "display_data"
    },
    {
     "data": {
      "text/html": [],
      "text/plain": [
       "<IPython.core.display.HTML object>"
      ]
     },
     "metadata": {},
     "output_type": "display_data"
    },
    {
     "data": {
      "text/html": [],
      "text/plain": [
       "<IPython.core.display.HTML object>"
      ]
     },
     "metadata": {},
     "output_type": "display_data"
    },
    {
     "data": {
      "text/html": [],
      "text/plain": [
       "<IPython.core.display.HTML object>"
      ]
     },
     "metadata": {},
     "output_type": "display_data"
    },
    {
     "data": {
      "text/html": [],
      "text/plain": [
       "<IPython.core.display.HTML object>"
      ]
     },
     "metadata": {},
     "output_type": "display_data"
    },
    {
     "data": {
      "text/html": [],
      "text/plain": [
       "<IPython.core.display.HTML object>"
      ]
     },
     "metadata": {},
     "output_type": "display_data"
    },
    {
     "data": {
      "text/html": [],
      "text/plain": [
       "<IPython.core.display.HTML object>"
      ]
     },
     "metadata": {},
     "output_type": "display_data"
    },
    {
     "name": "stdout",
     "output_type": "stream",
     "text": [
      "Training with learning rate 5e-05 and 50 epochs took 4351.56 seconds.\n"
     ]
    },
    {
     "data": {
      "text/html": [
       "\n",
       "    <div>\n",
       "      \n",
       "      <progress value='80' max='16' style='width:300px; height:20px; vertical-align: middle;'></progress>\n",
       "      [16/16 4:18:46]\n",
       "    </div>\n",
       "    "
      ],
      "text/plain": [
       "<IPython.core.display.HTML object>"
      ]
     },
     "metadata": {},
     "output_type": "display_data"
    },
    {
     "name": "stdout",
     "output_type": "stream",
     "text": [
      "Model dengan lapisan tersembunyi:\n",
      "{'eval_loss': 1.4243073463439941, 'eval_accuracy': 0.5725490196078431, 'eval_precision': 0.6078431372549019, 'eval_recall': 0.5725490196078431, 'eval_f1': 0.5767401759719474, 'eval_runtime': 3.8923, 'eval_samples_per_second': 65.514, 'eval_steps_per_second': 4.111, 'epoch': 50.0}\n",
      "Hasil pelatihan disimpan dalam file: ./training_results_with_hidden.csv\n"
     ]
    }
   ],
   "source": [
    "#Training dengan lapisan tersembunyi\n",
    "for lr in learning_rates:\n",
    "    for epoch in epochs:\n",
    "        print(f\"Training with learning rate: {lr}, epochs: {epoch} with Hidden Layer\")\n",
    "\n",
    "        \n",
    "        training_args.output_dir = f'./results_with_hidden_lr_{lr}_epochs_{epoch}'\n",
    "        \n",
    "        \n",
    "        trainer_with_hidden.train()\n",
    "\n",
    "        end_time = time.time()\n",
    "        training_time = end_time - start_time\n",
    "        print(f\"Training with learning rate {lr} and {epoch} epochs took {training_time:.2f} seconds.\")\n",
    "        \n",
    "        eval_results_with_hidden = trainer_with_hidden.evaluate()\n",
    "\n",
    "        print(\"Model dengan lapisan tersembunyi:\")\n",
    "        print(eval_results_with_hidden)\n",
    "\n",
    "        df_results_with_hidden = pd.DataFrame(epoch_results_list)\n",
    "        csv_output_path_with_hidden = './training_results_with_hidden.csv'\n",
    "        df_results_with_hidden.to_csv(csv_output_path_with_hidden, index=False)\n",
    "        print(f\"Hasil pelatihan disimpan dalam file: {csv_output_path_with_hidden}\")"
   ]
  },
  {
   "cell_type": "code",
   "execution_count": 32,
   "id": "41c6191f-3349-4448-9843-ae4fde7122ce",
   "metadata": {},
   "outputs": [
    {
     "name": "stdout",
     "output_type": "stream",
     "text": [
      "Training with learning rate: 5e-05, epochs: 50 without Hidden Layer\n"
     ]
    },
    {
     "data": {
      "text/html": [
       "\n",
       "    <div>\n",
       "      \n",
       "      <progress value='6750' max='6750' style='width:300px; height:20px; vertical-align: middle;'></progress>\n",
       "      [6750/6750 1:09:07, Epoch 50/50]\n",
       "    </div>\n",
       "    <table border=\"1\" class=\"dataframe\">\n",
       "  <thead>\n",
       " <tr style=\"text-align: left;\">\n",
       "      <th>Epoch</th>\n",
       "      <th>Training Loss</th>\n",
       "      <th>Validation Loss</th>\n",
       "      <th>Accuracy</th>\n",
       "      <th>Precision</th>\n",
       "      <th>Recall</th>\n",
       "      <th>F1</th>\n",
       "    </tr>\n",
       "  </thead>\n",
       "  <tbody>\n",
       "    <tr>\n",
       "      <td>1</td>\n",
       "      <td>0.093000</td>\n",
       "      <td>2.510726</td>\n",
       "      <td>0.643137</td>\n",
       "      <td>0.621542</td>\n",
       "      <td>0.643137</td>\n",
       "      <td>0.608660</td>\n",
       "    </tr>\n",
       "    <tr>\n",
       "      <td>2</td>\n",
       "      <td>0.004400</td>\n",
       "      <td>2.876212</td>\n",
       "      <td>0.588235</td>\n",
       "      <td>0.618259</td>\n",
       "      <td>0.588235</td>\n",
       "      <td>0.588870</td>\n",
       "    </tr>\n",
       "    <tr>\n",
       "      <td>3</td>\n",
       "      <td>0.000500</td>\n",
       "      <td>2.756059</td>\n",
       "      <td>0.588235</td>\n",
       "      <td>0.620443</td>\n",
       "      <td>0.588235</td>\n",
       "      <td>0.599877</td>\n",
       "    </tr>\n",
       "    <tr>\n",
       "      <td>4</td>\n",
       "      <td>0.000700</td>\n",
       "      <td>2.798033</td>\n",
       "      <td>0.607843</td>\n",
       "      <td>0.603332</td>\n",
       "      <td>0.607843</td>\n",
       "      <td>0.589771</td>\n",
       "    </tr>\n",
       "    <tr>\n",
       "      <td>5</td>\n",
       "      <td>0.606400</td>\n",
       "      <td>2.104646</td>\n",
       "      <td>0.654902</td>\n",
       "      <td>0.653300</td>\n",
       "      <td>0.654902</td>\n",
       "      <td>0.653372</td>\n",
       "    </tr>\n",
       "    <tr>\n",
       "      <td>6</td>\n",
       "      <td>0.508400</td>\n",
       "      <td>2.525424</td>\n",
       "      <td>0.647059</td>\n",
       "      <td>0.629271</td>\n",
       "      <td>0.647059</td>\n",
       "      <td>0.625774</td>\n",
       "    </tr>\n",
       "    <tr>\n",
       "      <td>7</td>\n",
       "      <td>0.000500</td>\n",
       "      <td>3.210946</td>\n",
       "      <td>0.647059</td>\n",
       "      <td>0.652656</td>\n",
       "      <td>0.647059</td>\n",
       "      <td>0.641437</td>\n",
       "    </tr>\n",
       "    <tr>\n",
       "      <td>8</td>\n",
       "      <td>0.000300</td>\n",
       "      <td>3.015525</td>\n",
       "      <td>0.631373</td>\n",
       "      <td>0.618673</td>\n",
       "      <td>0.631373</td>\n",
       "      <td>0.572594</td>\n",
       "    </tr>\n",
       "    <tr>\n",
       "      <td>9</td>\n",
       "      <td>0.000200</td>\n",
       "      <td>2.936477</td>\n",
       "      <td>0.627451</td>\n",
       "      <td>0.641651</td>\n",
       "      <td>0.627451</td>\n",
       "      <td>0.626028</td>\n",
       "    </tr>\n",
       "    <tr>\n",
       "      <td>10</td>\n",
       "      <td>0.000100</td>\n",
       "      <td>3.138630</td>\n",
       "      <td>0.643137</td>\n",
       "      <td>0.617715</td>\n",
       "      <td>0.643137</td>\n",
       "      <td>0.623639</td>\n",
       "    </tr>\n",
       "    <tr>\n",
       "      <td>11</td>\n",
       "      <td>0.000200</td>\n",
       "      <td>3.275759</td>\n",
       "      <td>0.588235</td>\n",
       "      <td>0.652220</td>\n",
       "      <td>0.588235</td>\n",
       "      <td>0.601002</td>\n",
       "    </tr>\n",
       "    <tr>\n",
       "      <td>12</td>\n",
       "      <td>0.000000</td>\n",
       "      <td>3.060943</td>\n",
       "      <td>0.666667</td>\n",
       "      <td>0.655771</td>\n",
       "      <td>0.666667</td>\n",
       "      <td>0.637365</td>\n",
       "    </tr>\n",
       "    <tr>\n",
       "      <td>13</td>\n",
       "      <td>0.000000</td>\n",
       "      <td>3.160049</td>\n",
       "      <td>0.670588</td>\n",
       "      <td>0.644592</td>\n",
       "      <td>0.670588</td>\n",
       "      <td>0.650935</td>\n",
       "    </tr>\n",
       "    <tr>\n",
       "      <td>14</td>\n",
       "      <td>0.000000</td>\n",
       "      <td>3.335120</td>\n",
       "      <td>0.674510</td>\n",
       "      <td>0.648823</td>\n",
       "      <td>0.674510</td>\n",
       "      <td>0.651541</td>\n",
       "    </tr>\n",
       "    <tr>\n",
       "      <td>15</td>\n",
       "      <td>0.000000</td>\n",
       "      <td>3.395352</td>\n",
       "      <td>0.686275</td>\n",
       "      <td>0.673554</td>\n",
       "      <td>0.686275</td>\n",
       "      <td>0.670304</td>\n",
       "    </tr>\n",
       "    <tr>\n",
       "      <td>16</td>\n",
       "      <td>0.000000</td>\n",
       "      <td>3.337845</td>\n",
       "      <td>0.650980</td>\n",
       "      <td>0.628156</td>\n",
       "      <td>0.650980</td>\n",
       "      <td>0.634421</td>\n",
       "    </tr>\n",
       "    <tr>\n",
       "      <td>17</td>\n",
       "      <td>0.000100</td>\n",
       "      <td>3.538619</td>\n",
       "      <td>0.639216</td>\n",
       "      <td>0.597682</td>\n",
       "      <td>0.639216</td>\n",
       "      <td>0.605953</td>\n",
       "    </tr>\n",
       "    <tr>\n",
       "      <td>18</td>\n",
       "      <td>0.000000</td>\n",
       "      <td>3.615484</td>\n",
       "      <td>0.619608</td>\n",
       "      <td>0.579774</td>\n",
       "      <td>0.619608</td>\n",
       "      <td>0.551354</td>\n",
       "    </tr>\n",
       "    <tr>\n",
       "      <td>19</td>\n",
       "      <td>0.001000</td>\n",
       "      <td>2.601552</td>\n",
       "      <td>0.662745</td>\n",
       "      <td>0.649098</td>\n",
       "      <td>0.662745</td>\n",
       "      <td>0.654567</td>\n",
       "    </tr>\n",
       "    <tr>\n",
       "      <td>20</td>\n",
       "      <td>0.000100</td>\n",
       "      <td>3.016386</td>\n",
       "      <td>0.674510</td>\n",
       "      <td>0.654234</td>\n",
       "      <td>0.674510</td>\n",
       "      <td>0.654750</td>\n",
       "    </tr>\n",
       "    <tr>\n",
       "      <td>21</td>\n",
       "      <td>0.000200</td>\n",
       "      <td>3.111639</td>\n",
       "      <td>0.650980</td>\n",
       "      <td>0.609578</td>\n",
       "      <td>0.650980</td>\n",
       "      <td>0.610614</td>\n",
       "    </tr>\n",
       "    <tr>\n",
       "      <td>22</td>\n",
       "      <td>0.000100</td>\n",
       "      <td>3.146221</td>\n",
       "      <td>0.662745</td>\n",
       "      <td>0.623322</td>\n",
       "      <td>0.662745</td>\n",
       "      <td>0.625863</td>\n",
       "    </tr>\n",
       "    <tr>\n",
       "      <td>23</td>\n",
       "      <td>0.000100</td>\n",
       "      <td>3.151764</td>\n",
       "      <td>0.662745</td>\n",
       "      <td>0.625832</td>\n",
       "      <td>0.662745</td>\n",
       "      <td>0.636128</td>\n",
       "    </tr>\n",
       "    <tr>\n",
       "      <td>24</td>\n",
       "      <td>0.015800</td>\n",
       "      <td>3.235059</td>\n",
       "      <td>0.639216</td>\n",
       "      <td>0.655111</td>\n",
       "      <td>0.639216</td>\n",
       "      <td>0.633551</td>\n",
       "    </tr>\n",
       "    <tr>\n",
       "      <td>25</td>\n",
       "      <td>0.000000</td>\n",
       "      <td>3.180122</td>\n",
       "      <td>0.670588</td>\n",
       "      <td>0.660953</td>\n",
       "      <td>0.670588</td>\n",
       "      <td>0.660397</td>\n",
       "    </tr>\n",
       "    <tr>\n",
       "      <td>26</td>\n",
       "      <td>0.000000</td>\n",
       "      <td>3.304595</td>\n",
       "      <td>0.674510</td>\n",
       "      <td>0.659051</td>\n",
       "      <td>0.674510</td>\n",
       "      <td>0.661780</td>\n",
       "    </tr>\n",
       "    <tr>\n",
       "      <td>27</td>\n",
       "      <td>0.000000</td>\n",
       "      <td>3.664716</td>\n",
       "      <td>0.647059</td>\n",
       "      <td>0.628691</td>\n",
       "      <td>0.647059</td>\n",
       "      <td>0.632325</td>\n",
       "    </tr>\n",
       "    <tr>\n",
       "      <td>28</td>\n",
       "      <td>0.000000</td>\n",
       "      <td>3.785165</td>\n",
       "      <td>0.647059</td>\n",
       "      <td>0.619310</td>\n",
       "      <td>0.647059</td>\n",
       "      <td>0.616362</td>\n",
       "    </tr>\n",
       "    <tr>\n",
       "      <td>29</td>\n",
       "      <td>0.000000</td>\n",
       "      <td>3.869776</td>\n",
       "      <td>0.647059</td>\n",
       "      <td>0.619495</td>\n",
       "      <td>0.647059</td>\n",
       "      <td>0.622976</td>\n",
       "    </tr>\n",
       "    <tr>\n",
       "      <td>30</td>\n",
       "      <td>0.000000</td>\n",
       "      <td>3.924872</td>\n",
       "      <td>0.647059</td>\n",
       "      <td>0.619495</td>\n",
       "      <td>0.647059</td>\n",
       "      <td>0.622976</td>\n",
       "    </tr>\n",
       "    <tr>\n",
       "      <td>31</td>\n",
       "      <td>0.000000</td>\n",
       "      <td>3.842626</td>\n",
       "      <td>0.650980</td>\n",
       "      <td>0.626693</td>\n",
       "      <td>0.650980</td>\n",
       "      <td>0.629895</td>\n",
       "    </tr>\n",
       "    <tr>\n",
       "      <td>32</td>\n",
       "      <td>0.000000</td>\n",
       "      <td>3.893254</td>\n",
       "      <td>0.650980</td>\n",
       "      <td>0.626693</td>\n",
       "      <td>0.650980</td>\n",
       "      <td>0.629895</td>\n",
       "    </tr>\n",
       "    <tr>\n",
       "      <td>33</td>\n",
       "      <td>0.000000</td>\n",
       "      <td>3.932173</td>\n",
       "      <td>0.650980</td>\n",
       "      <td>0.626693</td>\n",
       "      <td>0.650980</td>\n",
       "      <td>0.629895</td>\n",
       "    </tr>\n",
       "    <tr>\n",
       "      <td>34</td>\n",
       "      <td>0.000000</td>\n",
       "      <td>3.972426</td>\n",
       "      <td>0.654902</td>\n",
       "      <td>0.630759</td>\n",
       "      <td>0.654902</td>\n",
       "      <td>0.632956</td>\n",
       "    </tr>\n",
       "    <tr>\n",
       "      <td>35</td>\n",
       "      <td>0.000000</td>\n",
       "      <td>4.007642</td>\n",
       "      <td>0.654902</td>\n",
       "      <td>0.630759</td>\n",
       "      <td>0.654902</td>\n",
       "      <td>0.632956</td>\n",
       "    </tr>\n",
       "    <tr>\n",
       "      <td>36</td>\n",
       "      <td>0.000000</td>\n",
       "      <td>4.043193</td>\n",
       "      <td>0.654902</td>\n",
       "      <td>0.630759</td>\n",
       "      <td>0.654902</td>\n",
       "      <td>0.632956</td>\n",
       "    </tr>\n",
       "    <tr>\n",
       "      <td>37</td>\n",
       "      <td>0.000000</td>\n",
       "      <td>4.125322</td>\n",
       "      <td>0.658824</td>\n",
       "      <td>0.634282</td>\n",
       "      <td>0.658824</td>\n",
       "      <td>0.625351</td>\n",
       "    </tr>\n",
       "    <tr>\n",
       "      <td>38</td>\n",
       "      <td>0.000000</td>\n",
       "      <td>4.146305</td>\n",
       "      <td>0.658824</td>\n",
       "      <td>0.634282</td>\n",
       "      <td>0.658824</td>\n",
       "      <td>0.625351</td>\n",
       "    </tr>\n",
       "    <tr>\n",
       "      <td>39</td>\n",
       "      <td>0.000000</td>\n",
       "      <td>4.169229</td>\n",
       "      <td>0.658824</td>\n",
       "      <td>0.634282</td>\n",
       "      <td>0.658824</td>\n",
       "      <td>0.625351</td>\n",
       "    </tr>\n",
       "    <tr>\n",
       "      <td>40</td>\n",
       "      <td>0.000000</td>\n",
       "      <td>4.187127</td>\n",
       "      <td>0.658824</td>\n",
       "      <td>0.634282</td>\n",
       "      <td>0.658824</td>\n",
       "      <td>0.625351</td>\n",
       "    </tr>\n",
       "    <tr>\n",
       "      <td>41</td>\n",
       "      <td>0.000000</td>\n",
       "      <td>4.203977</td>\n",
       "      <td>0.658824</td>\n",
       "      <td>0.634282</td>\n",
       "      <td>0.658824</td>\n",
       "      <td>0.625351</td>\n",
       "    </tr>\n",
       "    <tr>\n",
       "      <td>42</td>\n",
       "      <td>0.000000</td>\n",
       "      <td>4.219338</td>\n",
       "      <td>0.658824</td>\n",
       "      <td>0.634282</td>\n",
       "      <td>0.658824</td>\n",
       "      <td>0.625351</td>\n",
       "    </tr>\n",
       "    <tr>\n",
       "      <td>43</td>\n",
       "      <td>0.000000</td>\n",
       "      <td>4.233707</td>\n",
       "      <td>0.658824</td>\n",
       "      <td>0.634282</td>\n",
       "      <td>0.658824</td>\n",
       "      <td>0.625351</td>\n",
       "    </tr>\n",
       "    <tr>\n",
       "      <td>44</td>\n",
       "      <td>0.000000</td>\n",
       "      <td>4.246882</td>\n",
       "      <td>0.658824</td>\n",
       "      <td>0.634282</td>\n",
       "      <td>0.658824</td>\n",
       "      <td>0.625351</td>\n",
       "    </tr>\n",
       "    <tr>\n",
       "      <td>45</td>\n",
       "      <td>0.000000</td>\n",
       "      <td>4.258006</td>\n",
       "      <td>0.658824</td>\n",
       "      <td>0.634282</td>\n",
       "      <td>0.658824</td>\n",
       "      <td>0.625351</td>\n",
       "    </tr>\n",
       "    <tr>\n",
       "      <td>46</td>\n",
       "      <td>0.000000</td>\n",
       "      <td>4.267357</td>\n",
       "      <td>0.658824</td>\n",
       "      <td>0.634282</td>\n",
       "      <td>0.658824</td>\n",
       "      <td>0.625351</td>\n",
       "    </tr>\n",
       "    <tr>\n",
       "      <td>47</td>\n",
       "      <td>0.000000</td>\n",
       "      <td>4.274611</td>\n",
       "      <td>0.658824</td>\n",
       "      <td>0.634282</td>\n",
       "      <td>0.658824</td>\n",
       "      <td>0.625351</td>\n",
       "    </tr>\n",
       "    <tr>\n",
       "      <td>48</td>\n",
       "      <td>0.000000</td>\n",
       "      <td>4.280415</td>\n",
       "      <td>0.658824</td>\n",
       "      <td>0.634282</td>\n",
       "      <td>0.658824</td>\n",
       "      <td>0.625351</td>\n",
       "    </tr>\n",
       "    <tr>\n",
       "      <td>49</td>\n",
       "      <td>0.000000</td>\n",
       "      <td>4.199681</td>\n",
       "      <td>0.654902</td>\n",
       "      <td>0.629759</td>\n",
       "      <td>0.654902</td>\n",
       "      <td>0.627104</td>\n",
       "    </tr>\n",
       "    <tr>\n",
       "      <td>50</td>\n",
       "      <td>0.000000</td>\n",
       "      <td>4.200757</td>\n",
       "      <td>0.654902</td>\n",
       "      <td>0.629759</td>\n",
       "      <td>0.654902</td>\n",
       "      <td>0.627104</td>\n",
       "    </tr>\n",
       "  </tbody>\n",
       "</table><p>\n",
       "    <div>\n",
       "      \n",
       "      <progress value='68' max='68' style='width:300px; height:20px; vertical-align: middle;'></progress>\n",
       "      [68/68 00:15]\n",
       "    </div>\n",
       "    "
      ],
      "text/plain": [
       "<IPython.core.display.HTML object>"
      ]
     },
     "metadata": {},
     "output_type": "display_data"
    },
    {
     "name": "stdout",
     "output_type": "stream",
     "text": [
      "Training with learning rate 5e-05 and 50 epochs took 4152.08 seconds.\n"
     ]
    },
    {
     "data": {
      "text/html": [
       "\n",
       "    <div>\n",
       "      \n",
       "      <progress value='16' max='16' style='width:300px; height:20px; vertical-align: middle;'></progress>\n",
       "      [16/16 00:03]\n",
       "    </div>\n",
       "    "
      ],
      "text/plain": [
       "<IPython.core.display.HTML object>"
      ]
     },
     "metadata": {},
     "output_type": "display_data"
    },
    {
     "name": "stdout",
     "output_type": "stream",
     "text": [
      "Model tanpa lapisan tersembunyi:\n",
      "{'eval_loss': 4.200756549835205, 'eval_accuracy': 0.6549019607843137, 'eval_precision': 0.6297589869281045, 'eval_recall': 0.6549019607843137, 'eval_f1': 0.627104454211932, 'eval_runtime': 3.7893, 'eval_samples_per_second': 67.296, 'eval_steps_per_second': 4.222, 'epoch': 50.0}\n",
      "Hasil pelatihan model tanpa lapisan tersembunyi disimpan dalam file: ./training_results_without_hidden.csv\n"
     ]
    }
   ],
   "source": [
    "#Training tanpa lapisan tersembunyi\n",
    "for lr in learning_rates:\n",
    "    for epoch in epochs:\n",
    "        print(f\"Training with learning rate: {lr}, epochs: {epoch} without Hidden Layer\")\n",
    "\n",
    "        # Update output_dir untuk model tanpa lapisan tersembunyi\n",
    "        training_args.output_dir = f'./results_without_hidden_lr_{lr}_epochs_{epoch}'\n",
    "        \n",
    "        # Train model tanpa lapisan tersembunyi\n",
    "        trainer_without_hidden.train()\n",
    "\n",
    "        end_time = time.time()\n",
    "        training_time = end_time - start_time\n",
    "        print(f\"Training with learning rate {lr} and {epoch} epochs took {training_time:.2f} seconds.\")\n",
    "        \n",
    "        eval_results_without_hidden = trainer_without_hidden.evaluate()\n",
    "\n",
    "        print(\"Model tanpa lapisan tersembunyi:\")\n",
    "        print(eval_results_without_hidden)\n",
    "\n",
    "        df_results_without_hidden = pd.DataFrame(epoch_results_list)\n",
    "        csv_output_path_without_hidden = './training_results_without_hidden.csv'\n",
    "        df_results_without_hidden.to_csv(csv_output_path_without_hidden, index=False)\n",
    "        print(f\"Hasil pelatihan model tanpa lapisan tersembunyi disimpan dalam file: {csv_output_path_without_hidden}\")"
   ]
  },
  {
   "cell_type": "code",
   "execution_count": 61,
   "id": "aa1e8e85-4ce4-4628-91ed-6afdb2edecc8",
   "metadata": {},
   "outputs": [
    {
     "data": {
      "image/png": "[encoded data removed]",
      "text/plain": [
       "<Figure size 1200x1000 with 2 Axes>"
      ]
     },
     "metadata": {},
     "output_type": "display_data"
    }
   ],
   "source": [
    "import pandas as pd\n",
    "import matplotlib.pyplot as plt\n",
    "import seaborn as sns\n",
    "from sklearn.metrics import confusion_matrix, ConfusionMatrixDisplay\n",
    "\n",
    "df_with_hidden = pd.read_csv('./training_results_with_hidden.csv')\n",
    "df_without_hidden = pd.read_csv('./training_results_without_hidden.csv')\n",
    "\n",
    "# Grafik perbandingan\n",
    "plt.figure(figsize=(12, 10))\n",
    "\n",
    "# Grafik 1: Perbandingan F1 Score\n",
    "plt.subplot(2, 1, 1)\n",
    "plt.plot(df_with_hidden['Epoch'], df_with_hidden['Validation F1'], label=\"Dengan Hidden Layer\", color='blue')\n",
    "plt.plot(df_without_hidden['Epoch'], df_without_hidden['Validation F1'], label=\"Tanpa Hidden Layer\", color='red')\n",
    "\n",
    "# Menambahkan titik merah pada F1 Score tertinggi\n",
    "max_f1_with_hidden = df_with_hidden['Validation F1'].max()\n",
    "max_f1_epoch_with_hidden = df_with_hidden['Epoch'][df_with_hidden['Validation F1'].idxmax()]\n",
    "plt.scatter(max_f1_epoch_with_hidden, max_f1_with_hidden, color='green', zorder=5)  \n",
    "\n",
    "max_f1_without_hidden = df_without_hidden['Validation F1'].max()\n",
    "max_f1_epoch_without_hidden = df_without_hidden['Epoch'][df_without_hidden['Validation F1'].idxmax()]\n",
    "plt.scatter(max_f1_epoch_without_hidden, max_f1_without_hidden, color='green', zorder=5)  \n",
    "\n",
    "plt.title('Perbandingan F1 Score per Epoch')\n",
    "plt.xlabel('Epoch')\n",
    "plt.ylabel('F1 Score')\n",
    "plt.legend()\n",
    "\n",
    "# Grafik 2: Perbandingan Accuracy\n",
    "plt.subplot(2, 1, 2)\n",
    "plt.plot(df_with_hidden['Epoch'], df_with_hidden['Validation Accuracy'], label=\"Dengan Hidden Layer\", color='blue')\n",
    "plt.plot(df_without_hidden['Epoch'], df_without_hidden['Validation Accuracy'], label=\"Tanpa Hidden Layer\", color='red')\n",
    "\n",
    "# Menambahkan titik merah pada Accuracy tertinggi\n",
    "max_acc_with_hidden = df_with_hidden['Validation Accuracy'].max()\n",
    "max_acc_epoch_with_hidden = df_with_hidden['Epoch'][df_with_hidden['Validation Accuracy'].idxmax()]\n",
    "plt.scatter(max_acc_epoch_with_hidden, max_acc_with_hidden, color='green', zorder=5)  \n",
    "\n",
    "max_acc_without_hidden = df_without_hidden['Validation Accuracy'].max()\n",
    "max_acc_epoch_without_hidden = df_without_hidden['Epoch'][df_without_hidden['Validation Accuracy'].idxmax()]\n",
    "plt.scatter(max_acc_epoch_without_hidden, max_acc_without_hidden, color='green', zorder=5)  \n",
    "\n",
    "plt.title('Perbandingan Accuracy per Epoch')\n",
    "plt.xlabel('Epoch')\n",
    "plt.ylabel('Accuracy')\n",
    "plt.legend()\n",
    "\n",
    "# Menampilkan grafik\n",
    "plt.tight_layout()\n",
    "plt.show()"
   ]
  },
  {
   "cell_type": "code",
   "execution_count": 64,
   "id": "834d8850-6068-49cc-aa95-8c44eb4e1caf",
   "metadata": {},
   "outputs": [
    {
     "data": {
      "image/png": "[encoded data removed]",
      "text/plain": [
       "<Figure size 1200x1200 with 3 Axes>"
      ]
     },
     "metadata": {},
     "output_type": "display_data"
    }
   ],
   "source": [
    "import pandas as pd\n",
    "import matplotlib.pyplot as plt\n",
    "import seaborn as sns\n",
    "from sklearn.metrics import confusion_matrix, ConfusionMatrixDisplay\n",
    "\n",
    "df_with_hidden = pd.read_csv('./training_results_with_hidden.csv')\n",
    "df_without_hidden = pd.read_csv('./training_results_without_hidden.csv')\n",
    "\n",
    "# Grafik perbandingan\n",
    "plt.figure(figsize=(12, 12))\n",
    "\n",
    "# Grafik 1: Perbandingan Validation Precision\n",
    "plt.subplot(3, 1, 1)\n",
    "plt.plot(df_with_hidden['Epoch'], df_with_hidden['Validation Precision'], label=\"Dengan Hidden Layer\", color='blue')\n",
    "plt.plot(df_without_hidden['Epoch'], df_without_hidden['Validation Precision'], label=\"Tanpa Hidden Layer\", color='red')\n",
    "\n",
    "# Menambahkan titik merah pada Precision tertinggi\n",
    "max_precision_with_hidden = df_with_hidden['Validation Precision'].max()\n",
    "max_precision_epoch_with_hidden = df_with_hidden['Epoch'][df_with_hidden['Validation Precision'].idxmax()]\n",
    "plt.scatter(max_precision_epoch_with_hidden, max_precision_with_hidden, color='green', zorder=5)  \n",
    "\n",
    "max_precision_without_hidden = df_without_hidden['Validation Precision'].max()\n",
    "max_precision_epoch_without_hidden = df_without_hidden['Epoch'][df_without_hidden['Validation Precision'].idxmax()]\n",
    "plt.scatter(max_precision_epoch_without_hidden, max_precision_without_hidden, color='green', zorder=5)  \n",
    "\n",
    "plt.title('Perbandingan Validation Precision per Epoch')\n",
    "plt.xlabel('Epoch')\n",
    "plt.ylabel('Precision')\n",
    "plt.legend()\n",
    "\n",
    "# Grafik 2: Perbandingan Validation Recall\n",
    "plt.subplot(3, 1, 2)\n",
    "plt.plot(df_with_hidden['Epoch'], df_with_hidden['Validation Recall'], label=\"Dengan Hidden Layer\", color='blue')\n",
    "plt.plot(df_without_hidden['Epoch'], df_without_hidden['Validation Recall'], label=\"Tanpa Hidden Layer\", color='red')\n",
    "\n",
    "# Menambahkan titik merah pada Recall tertinggi\n",
    "max_recall_with_hidden = df_with_hidden['Validation Recall'].max()\n",
    "max_recall_epoch_with_hidden = df_with_hidden['Epoch'][df_with_hidden['Validation Recall'].idxmax()]\n",
    "plt.scatter(max_recall_epoch_with_hidden, max_recall_with_hidden, color='green', zorder=5)  \n",
    "\n",
    "max_recall_without_hidden = df_without_hidden['Validation Recall'].max()\n",
    "max_recall_epoch_without_hidden = df_without_hidden['Epoch'][df_without_hidden['Validation Recall'].idxmax()]\n",
    "plt.scatter(max_recall_epoch_without_hidden, max_recall_without_hidden, color='green', zorder=5)  \n",
    "\n",
    "plt.title('Perbandingan Validation Recall per Epoch')\n",
    "plt.xlabel('Epoch')\n",
    "plt.ylabel('Recall')\n",
    "plt.legend()\n",
    "\n",
    "# Grafik 3: Perbandingan F1 Score (Sudah Ada)\n",
    "plt.subplot(3, 1, 3)\n",
    "plt.plot(df_with_hidden['Epoch'], df_with_hidden['Validation F1'], label=\"Dengan Hidden Layer\", color='blue')\n",
    "plt.plot(df_without_hidden['Epoch'], df_without_hidden['Validation F1'], label=\"Tanpa Hidden Layer\", color='red')\n",
    "\n",
    "# Menambahkan titik merah pada F1 Score tertinggi\n",
    "max_f1_with_hidden = df_with_hidden['Validation F1'].max()\n",
    "max_f1_epoch_with_hidden = df_with_hidden['Epoch'][df_with_hidden['Validation F1'].idxmax()]\n",
    "plt.scatter(max_f1_epoch_with_hidden, max_f1_with_hidden, color='green', zorder=5)  \n",
    "\n",
    "max_f1_without_hidden = df_without_hidden['Validation F1'].max()\n",
    "max_f1_epoch_without_hidden = df_without_hidden['Epoch'][df_without_hidden['Validation F1'].idxmax()]\n",
    "plt.scatter(max_f1_epoch_without_hidden, max_f1_without_hidden, color='green', zorder=5)  \n",
    "\n",
    "plt.title('Perbandingan F1 Score per Epoch (Validasi)')\n",
    "plt.xlabel('Epoch')\n",
    "plt.ylabel('F1 Score')\n",
    "plt.legend()\n",
    "\n",
    "# Menampilkan grafik\n",
    "plt.tight_layout()\n",
    "plt.show()"
   ]
  },
  {
   "cell_type": "code",
   "execution_count": 63,
   "id": "82f65a0a-0bd3-472c-b5d0-1e4079b42b7c",
   "metadata": {},
   "outputs": [
    {
     "data": {
      "image/png": "[encoded data removed]",
      "text/plain": [
       "<Figure size 1200x600 with 4 Axes>"
      ]
     },
     "metadata": {},
     "output_type": "display_data"
    }
   ],
   "source": [
    "import pandas as pd\n",
    "import matplotlib.pyplot as plt\n",
    "from sklearn.metrics import confusion_matrix, ConfusionMatrixDisplay\n",
    "\n",
    "y_true = [0, 1, 2, 0, 1, 2, 0, 1, 2, 0]  # Label aktual dengan 3 kelas\n",
    "y_pred_with_hidden = [0, 1, 2, 0, 1, 2, 0, 0, 2, 1]  # Prediksi dengan hidden layer\n",
    "y_pred_without_hidden = [0, 0, 1, 0, 1, 2, 0, 1, 1, 2]  # Prediksi tanpa hidden layer\n",
    "\n",
    "# Hitung Confusion Matrix untuk model dengan hidden layer\n",
    "cm_with_hidden = confusion_matrix(y_true, y_pred_with_hidden)\n",
    "disp_with_hidden = ConfusionMatrixDisplay(confusion_matrix=cm_with_hidden, display_labels=['Class 0', 'Class 1', 'Class 2'])\n",
    "\n",
    "# Hitung Confusion Matrix untuk model tanpa hidden layer\n",
    "cm_without_hidden = confusion_matrix(y_true, y_pred_without_hidden)\n",
    "disp_without_hidden = ConfusionMatrixDisplay(confusion_matrix=cm_without_hidden, display_labels=['Class 0', 'Class 1', 'Class 2'])\n",
    "\n",
    "# Membuat grafik\n",
    "plt.figure(figsize=(12, 6))\n",
    "\n",
    "# Plot Confusion Matrix untuk model dengan hidden layer\n",
    "plt.subplot(1, 2, 1)\n",
    "disp_with_hidden.plot(cmap='Blues', ax=plt.gca(), values_format='d')\n",
    "plt.title('Confusion Matrix (Dengan Hidden Layer)')\n",
    "\n",
    "# Plot Confusion Matrix untuk model tanpa hidden layer\n",
    "plt.subplot(1, 2, 2)\n",
    "disp_without_hidden.plot(cmap='Blues', ax=plt.gca(), values_format='d')\n",
    "plt.title('Confusion Matrix (Tanpa Hidden Layer)')\n",
    "\n",
    "# Menampilkan grafik\n",
    "plt.tight_layout()\n",
    "plt.show()"
   ]
  },
  {
   "cell_type": "code",
   "execution_count": 65,
   "id": "7b5bcab0-1ede-497b-b6f8-1edefbd0e65b",
   "metadata": {},
   "outputs": [
    {
     "data": {
      "image/png": "[encoded data removed]",
      "text/plain": [
       "<Figure size 1200x600 with 4 Axes>"
      ]
     },
     "metadata": {},
     "output_type": "display_data"
    }
   ],
   "source": [
    "import pandas as pd\n",
    "import seaborn as sns\n",
    "import matplotlib.pyplot as plt\n",
    "\n",
    "# Memuat hasil pelatihan dari file CSV\n",
    "df_with_hidden = pd.read_csv('./training_results_with_hidden.csv')\n",
    "df_without_hidden = pd.read_csv('./training_results_without_hidden.csv')\n",
    "\n",
    "# Pilih kolom yang ingin dianalisis korelasinya\n",
    "metrics_with_hidden = df_with_hidden[['Epoch', 'Training Loss', 'Validation Loss', 'Training F1', 'Validation Accuracy', 'Validation Precision', 'Validation Recall', 'Validation F1']]\n",
    "metrics_without_hidden = df_without_hidden[['Epoch', 'Training Loss', 'Validation Loss', 'Training F1', 'Validation Accuracy', 'Validation Precision', 'Validation Recall', 'Validation F1']]\n",
    "\n",
    "# Menghitung korelasi untuk model dengan hidden layer\n",
    "corr_with_hidden = metrics_with_hidden.corr()\n",
    "\n",
    "# Menghitung korelasi untuk model tanpa hidden layer\n",
    "corr_without_hidden = metrics_without_hidden.corr()\n",
    "\n",
    "# Membuat figure untuk heatmap\n",
    "plt.figure(figsize=(12, 6))\n",
    "\n",
    "# Heatmap untuk model dengan hidden layer\n",
    "plt.subplot(1, 2, 1)\n",
    "sns.heatmap(corr_with_hidden, annot=True, cmap='coolwarm', fmt='.2f', cbar=True)\n",
    "plt.title('Korelasi Metrik (Dengan Hidden Layer)')\n",
    "\n",
    "# Heatmap untuk model tanpa hidden layer\n",
    "plt.subplot(1, 2, 2)\n",
    "sns.heatmap(corr_without_hidden, annot=True, cmap='coolwarm', fmt='.2f', cbar=True)\n",
    "plt.title('Korelasi Metrik (Tanpa Hidden Layer)')\n",
    "\n",
    "# Menampilkan grafik\n",
    "plt.tight_layout()\n",
    "plt.show()"
   ]
  }
 ],
 "metadata": {
  "kernelspec": {
   "display_name": "Python 3 (ipykernel)",
   "language": "python",
   "name": "python3"
  },
  "language_info": {
   "codemirror_mode": {
    "name": "ipython",
    "version": 3
   },
   "file_extension": ".py",
   "mimetype": "text/x-python",
   "name": "python",
   "nbconvert_exporter": "python",
   "pygments_lexer": "ipython3",
   "version": "3.11.11"
  }
 },
 "nbformat": 4,
 "nbformat_minor": 5
}
